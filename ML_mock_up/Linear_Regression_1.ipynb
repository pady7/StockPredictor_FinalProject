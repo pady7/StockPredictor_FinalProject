{
 "cells": [
  {
   "cell_type": "code",
   "execution_count": 1,
   "id": "8ebe1ef4",
   "metadata": {},
   "outputs": [],
   "source": [
    "import pandas as pd\n",
    "from pathlib import Path"
   ]
  },
  {
   "cell_type": "code",
   "execution_count": 2,
   "id": "91196ba6",
   "metadata": {},
   "outputs": [],
   "source": [
    "import matplotlib.pyplot as plt\n",
    "%matplotlib inline"
   ]
  },
  {
   "cell_type": "code",
   "execution_count": 3,
   "id": "17a3a21a",
   "metadata": {},
   "outputs": [],
   "source": [
    "plt.style.use('fivethirtyeight')\n",
    "from matplotlib.pylab import rcParams\n",
    "rcParams['figure.figsize'] = 20,10"
   ]
  },
  {
   "cell_type": "code",
   "execution_count": 4,
   "id": "2be67218",
   "metadata": {},
   "outputs": [],
   "source": [
    "import datetime as dt\n",
    "import numpy as np\n",
    "from pandas.plotting import scatter_matrix"
   ]
  },
  {
   "cell_type": "code",
   "execution_count": 5,
   "id": "81bfc32d",
   "metadata": {},
   "outputs": [],
   "source": [
    "import seaborn as sns"
   ]
  },
  {
   "cell_type": "markdown",
   "id": "2abc6b9e",
   "metadata": {},
   "source": [
    "# 1. Get the stock Data of ENPH"
   ]
  },
  {
   "cell_type": "code",
   "execution_count": 6,
   "id": "6ba9cc56",
   "metadata": {},
   "outputs": [
    {
     "data": {
      "text/plain": [
       "Date         False\n",
       "Open         False\n",
       "High         False\n",
       "Low          False\n",
       "Close        False\n",
       "Adj Close    False\n",
       "Volume       False\n",
       "dtype: bool"
      ]
     },
     "execution_count": 6,
     "metadata": {},
     "output_type": "execute_result"
    }
   ],
   "source": [
    "#load .csv file as DataFrame\n",
    "df = pd.read_csv(Path('../ML_mock_up/ENPH_Price.csv'))\n",
    "df.head()\n",
    "#check the null value in the column\n",
    "df.isnull().any()"
   ]
  },
  {
   "cell_type": "code",
   "execution_count": 7,
   "id": "10e9e014",
   "metadata": {},
   "outputs": [
    {
     "data": {
      "text/html": [
       "<div>\n",
       "<style scoped>\n",
       "    .dataframe tbody tr th:only-of-type {\n",
       "        vertical-align: middle;\n",
       "    }\n",
       "\n",
       "    .dataframe tbody tr th {\n",
       "        vertical-align: top;\n",
       "    }\n",
       "\n",
       "    .dataframe thead th {\n",
       "        text-align: right;\n",
       "    }\n",
       "</style>\n",
       "<table border=\"1\" class=\"dataframe\">\n",
       "  <thead>\n",
       "    <tr style=\"text-align: right;\">\n",
       "      <th></th>\n",
       "      <th>Date</th>\n",
       "      <th>Open</th>\n",
       "      <th>High</th>\n",
       "      <th>Low</th>\n",
       "      <th>Close</th>\n",
       "      <th>Adj Close</th>\n",
       "      <th>Volume</th>\n",
       "    </tr>\n",
       "  </thead>\n",
       "  <tbody>\n",
       "    <tr>\n",
       "      <th>0</th>\n",
       "      <td>2017-01-03</td>\n",
       "      <td>1.020000</td>\n",
       "      <td>1.050000</td>\n",
       "      <td>1.010000</td>\n",
       "      <td>1.050000</td>\n",
       "      <td>1.050000</td>\n",
       "      <td>445900</td>\n",
       "    </tr>\n",
       "    <tr>\n",
       "      <th>1</th>\n",
       "      <td>2017-01-04</td>\n",
       "      <td>1.090000</td>\n",
       "      <td>1.150000</td>\n",
       "      <td>1.050000</td>\n",
       "      <td>1.150000</td>\n",
       "      <td>1.150000</td>\n",
       "      <td>903000</td>\n",
       "    </tr>\n",
       "    <tr>\n",
       "      <th>2</th>\n",
       "      <td>2017-01-05</td>\n",
       "      <td>1.190000</td>\n",
       "      <td>1.190000</td>\n",
       "      <td>1.110000</td>\n",
       "      <td>1.120000</td>\n",
       "      <td>1.120000</td>\n",
       "      <td>308700</td>\n",
       "    </tr>\n",
       "    <tr>\n",
       "      <th>3</th>\n",
       "      <td>2017-01-06</td>\n",
       "      <td>1.120000</td>\n",
       "      <td>1.140000</td>\n",
       "      <td>1.080000</td>\n",
       "      <td>1.110000</td>\n",
       "      <td>1.110000</td>\n",
       "      <td>259700</td>\n",
       "    </tr>\n",
       "    <tr>\n",
       "      <th>4</th>\n",
       "      <td>2017-01-09</td>\n",
       "      <td>1.100000</td>\n",
       "      <td>1.110000</td>\n",
       "      <td>1.080000</td>\n",
       "      <td>1.110000</td>\n",
       "      <td>1.110000</td>\n",
       "      <td>180000</td>\n",
       "    </tr>\n",
       "    <tr>\n",
       "      <th>...</th>\n",
       "      <td>...</td>\n",
       "      <td>...</td>\n",
       "      <td>...</td>\n",
       "      <td>...</td>\n",
       "      <td>...</td>\n",
       "      <td>...</td>\n",
       "      <td>...</td>\n",
       "    </tr>\n",
       "    <tr>\n",
       "      <th>1297</th>\n",
       "      <td>2022-02-28</td>\n",
       "      <td>157.399994</td>\n",
       "      <td>167.949997</td>\n",
       "      <td>157.399994</td>\n",
       "      <td>166.699997</td>\n",
       "      <td>166.699997</td>\n",
       "      <td>5368900</td>\n",
       "    </tr>\n",
       "    <tr>\n",
       "      <th>1298</th>\n",
       "      <td>2022-03-01</td>\n",
       "      <td>167.539993</td>\n",
       "      <td>172.869995</td>\n",
       "      <td>163.520004</td>\n",
       "      <td>170.600006</td>\n",
       "      <td>170.600006</td>\n",
       "      <td>3539800</td>\n",
       "    </tr>\n",
       "    <tr>\n",
       "      <th>1299</th>\n",
       "      <td>2022-03-02</td>\n",
       "      <td>169.880005</td>\n",
       "      <td>169.880005</td>\n",
       "      <td>159.529999</td>\n",
       "      <td>163.889999</td>\n",
       "      <td>163.889999</td>\n",
       "      <td>3473300</td>\n",
       "    </tr>\n",
       "    <tr>\n",
       "      <th>1300</th>\n",
       "      <td>2022-03-03</td>\n",
       "      <td>164.860001</td>\n",
       "      <td>165.729996</td>\n",
       "      <td>157.210007</td>\n",
       "      <td>159.029999</td>\n",
       "      <td>159.029999</td>\n",
       "      <td>2329200</td>\n",
       "    </tr>\n",
       "    <tr>\n",
       "      <th>1301</th>\n",
       "      <td>2022-03-04</td>\n",
       "      <td>159.820007</td>\n",
       "      <td>164.250000</td>\n",
       "      <td>152.949997</td>\n",
       "      <td>158.149994</td>\n",
       "      <td>158.149994</td>\n",
       "      <td>2512400</td>\n",
       "    </tr>\n",
       "  </tbody>\n",
       "</table>\n",
       "<p>1302 rows × 7 columns</p>\n",
       "</div>"
      ],
      "text/plain": [
       "            Date        Open        High         Low       Close   Adj Close  \\\n",
       "0     2017-01-03    1.020000    1.050000    1.010000    1.050000    1.050000   \n",
       "1     2017-01-04    1.090000    1.150000    1.050000    1.150000    1.150000   \n",
       "2     2017-01-05    1.190000    1.190000    1.110000    1.120000    1.120000   \n",
       "3     2017-01-06    1.120000    1.140000    1.080000    1.110000    1.110000   \n",
       "4     2017-01-09    1.100000    1.110000    1.080000    1.110000    1.110000   \n",
       "...          ...         ...         ...         ...         ...         ...   \n",
       "1297  2022-02-28  157.399994  167.949997  157.399994  166.699997  166.699997   \n",
       "1298  2022-03-01  167.539993  172.869995  163.520004  170.600006  170.600006   \n",
       "1299  2022-03-02  169.880005  169.880005  159.529999  163.889999  163.889999   \n",
       "1300  2022-03-03  164.860001  165.729996  157.210007  159.029999  159.029999   \n",
       "1301  2022-03-04  159.820007  164.250000  152.949997  158.149994  158.149994   \n",
       "\n",
       "       Volume  \n",
       "0      445900  \n",
       "1      903000  \n",
       "2      308700  \n",
       "3      259700  \n",
       "4      180000  \n",
       "...       ...  \n",
       "1297  5368900  \n",
       "1298  3539800  \n",
       "1299  3473300  \n",
       "1300  2329200  \n",
       "1301  2512400  \n",
       "\n",
       "[1302 rows x 7 columns]"
      ]
     },
     "execution_count": 7,
     "metadata": {},
     "output_type": "execute_result"
    }
   ],
   "source": [
    "df"
   ]
  },
  {
   "cell_type": "code",
   "execution_count": 8,
   "id": "404c5054",
   "metadata": {},
   "outputs": [
    {
     "name": "stdout",
     "output_type": "stream",
     "text": [
      "              Open         High          Low        Close    Adj Close  \\\n",
      "count  1302.000000  1302.000000  1302.000000  1302.000000  1302.000000   \n",
      "mean     57.269339    58.975983    55.475346    57.214324    57.214324   \n",
      "std      70.819424    72.705733    68.674717    70.601305    70.601305   \n",
      "min       0.700000     0.710000     0.650000     0.700000     0.700000   \n",
      "25%       4.360000     4.502500     4.195000     4.360000     4.360000   \n",
      "50%      19.770000    20.275000    19.235000    19.665000    19.665000   \n",
      "75%     119.007502   122.122501   114.515001   119.439999   119.439999   \n",
      "max     269.160004   282.459991   260.579987   267.739990   267.739990   \n",
      "\n",
      "             Volume  \n",
      "count  1.302000e+03  \n",
      "mean   3.092445e+06  \n",
      "std    3.325321e+06  \n",
      "min    9.570000e+04  \n",
      "25%    1.312050e+06  \n",
      "50%    2.433550e+06  \n",
      "75%    3.822625e+06  \n",
      "max    5.517290e+07  \n"
     ]
    }
   ],
   "source": [
    "print(df.describe())"
   ]
  },
  {
   "cell_type": "markdown",
   "id": "4d5cec07",
   "metadata": {},
   "source": [
    "# 2. Prepare the data"
   ]
  },
  {
   "cell_type": "code",
   "execution_count": 9,
   "id": "1709663e",
   "metadata": {},
   "outputs": [
    {
     "data": {
      "text/html": [
       "<div>\n",
       "<style scoped>\n",
       "    .dataframe tbody tr th:only-of-type {\n",
       "        vertical-align: middle;\n",
       "    }\n",
       "\n",
       "    .dataframe tbody tr th {\n",
       "        vertical-align: top;\n",
       "    }\n",
       "\n",
       "    .dataframe thead th {\n",
       "        text-align: right;\n",
       "    }\n",
       "</style>\n",
       "<table border=\"1\" class=\"dataframe\">\n",
       "  <thead>\n",
       "    <tr style=\"text-align: right;\">\n",
       "      <th></th>\n",
       "      <th>Date</th>\n",
       "      <th>Open</th>\n",
       "      <th>High</th>\n",
       "      <th>Low</th>\n",
       "      <th>Close</th>\n",
       "      <th>AdjClose</th>\n",
       "      <th>Volume</th>\n",
       "    </tr>\n",
       "  </thead>\n",
       "  <tbody>\n",
       "    <tr>\n",
       "      <th>0</th>\n",
       "      <td>2017-01-03</td>\n",
       "      <td>1.020000</td>\n",
       "      <td>1.050000</td>\n",
       "      <td>1.010000</td>\n",
       "      <td>1.050000</td>\n",
       "      <td>1.050000</td>\n",
       "      <td>445900</td>\n",
       "    </tr>\n",
       "    <tr>\n",
       "      <th>1</th>\n",
       "      <td>2017-01-04</td>\n",
       "      <td>1.090000</td>\n",
       "      <td>1.150000</td>\n",
       "      <td>1.050000</td>\n",
       "      <td>1.150000</td>\n",
       "      <td>1.150000</td>\n",
       "      <td>903000</td>\n",
       "    </tr>\n",
       "    <tr>\n",
       "      <th>2</th>\n",
       "      <td>2017-01-05</td>\n",
       "      <td>1.190000</td>\n",
       "      <td>1.190000</td>\n",
       "      <td>1.110000</td>\n",
       "      <td>1.120000</td>\n",
       "      <td>1.120000</td>\n",
       "      <td>308700</td>\n",
       "    </tr>\n",
       "    <tr>\n",
       "      <th>3</th>\n",
       "      <td>2017-01-06</td>\n",
       "      <td>1.120000</td>\n",
       "      <td>1.140000</td>\n",
       "      <td>1.080000</td>\n",
       "      <td>1.110000</td>\n",
       "      <td>1.110000</td>\n",
       "      <td>259700</td>\n",
       "    </tr>\n",
       "    <tr>\n",
       "      <th>4</th>\n",
       "      <td>2017-01-09</td>\n",
       "      <td>1.100000</td>\n",
       "      <td>1.110000</td>\n",
       "      <td>1.080000</td>\n",
       "      <td>1.110000</td>\n",
       "      <td>1.110000</td>\n",
       "      <td>180000</td>\n",
       "    </tr>\n",
       "    <tr>\n",
       "      <th>...</th>\n",
       "      <td>...</td>\n",
       "      <td>...</td>\n",
       "      <td>...</td>\n",
       "      <td>...</td>\n",
       "      <td>...</td>\n",
       "      <td>...</td>\n",
       "      <td>...</td>\n",
       "    </tr>\n",
       "    <tr>\n",
       "      <th>1297</th>\n",
       "      <td>2022-02-28</td>\n",
       "      <td>157.399994</td>\n",
       "      <td>167.949997</td>\n",
       "      <td>157.399994</td>\n",
       "      <td>166.699997</td>\n",
       "      <td>166.699997</td>\n",
       "      <td>5368900</td>\n",
       "    </tr>\n",
       "    <tr>\n",
       "      <th>1298</th>\n",
       "      <td>2022-03-01</td>\n",
       "      <td>167.539993</td>\n",
       "      <td>172.869995</td>\n",
       "      <td>163.520004</td>\n",
       "      <td>170.600006</td>\n",
       "      <td>170.600006</td>\n",
       "      <td>3539800</td>\n",
       "    </tr>\n",
       "    <tr>\n",
       "      <th>1299</th>\n",
       "      <td>2022-03-02</td>\n",
       "      <td>169.880005</td>\n",
       "      <td>169.880005</td>\n",
       "      <td>159.529999</td>\n",
       "      <td>163.889999</td>\n",
       "      <td>163.889999</td>\n",
       "      <td>3473300</td>\n",
       "    </tr>\n",
       "    <tr>\n",
       "      <th>1300</th>\n",
       "      <td>2022-03-03</td>\n",
       "      <td>164.860001</td>\n",
       "      <td>165.729996</td>\n",
       "      <td>157.210007</td>\n",
       "      <td>159.029999</td>\n",
       "      <td>159.029999</td>\n",
       "      <td>2329200</td>\n",
       "    </tr>\n",
       "    <tr>\n",
       "      <th>1301</th>\n",
       "      <td>2022-03-04</td>\n",
       "      <td>159.820007</td>\n",
       "      <td>164.250000</td>\n",
       "      <td>152.949997</td>\n",
       "      <td>158.149994</td>\n",
       "      <td>158.149994</td>\n",
       "      <td>2512400</td>\n",
       "    </tr>\n",
       "  </tbody>\n",
       "</table>\n",
       "<p>1302 rows × 7 columns</p>\n",
       "</div>"
      ],
      "text/plain": [
       "            Date        Open        High         Low       Close    AdjClose  \\\n",
       "0     2017-01-03    1.020000    1.050000    1.010000    1.050000    1.050000   \n",
       "1     2017-01-04    1.090000    1.150000    1.050000    1.150000    1.150000   \n",
       "2     2017-01-05    1.190000    1.190000    1.110000    1.120000    1.120000   \n",
       "3     2017-01-06    1.120000    1.140000    1.080000    1.110000    1.110000   \n",
       "4     2017-01-09    1.100000    1.110000    1.080000    1.110000    1.110000   \n",
       "...          ...         ...         ...         ...         ...         ...   \n",
       "1297  2022-02-28  157.399994  167.949997  157.399994  166.699997  166.699997   \n",
       "1298  2022-03-01  167.539993  172.869995  163.520004  170.600006  170.600006   \n",
       "1299  2022-03-02  169.880005  169.880005  159.529999  163.889999  163.889999   \n",
       "1300  2022-03-03  164.860001  165.729996  157.210007  159.029999  159.029999   \n",
       "1301  2022-03-04  159.820007  164.250000  152.949997  158.149994  158.149994   \n",
       "\n",
       "       Volume  \n",
       "0      445900  \n",
       "1      903000  \n",
       "2      308700  \n",
       "3      259700  \n",
       "4      180000  \n",
       "...       ...  \n",
       "1297  5368900  \n",
       "1298  3539800  \n",
       "1299  3473300  \n",
       "1300  2329200  \n",
       "1301  2512400  \n",
       "\n",
       "[1302 rows x 7 columns]"
      ]
     },
     "execution_count": 9,
     "metadata": {},
     "output_type": "execute_result"
    }
   ],
   "source": [
    "#Reformat the names of the colum of \"Adj Close\" so it contains no space\n",
    "df.rename(columns={\"Adj Close\": \"AdjClose\"},inplace = True)\n",
    "df"
   ]
  },
  {
   "cell_type": "code",
   "execution_count": 10,
   "id": "7859389f",
   "metadata": {},
   "outputs": [
    {
     "data": {
      "text/plain": [
       "Date        0\n",
       "Open        0\n",
       "High        0\n",
       "Low         0\n",
       "Close       0\n",
       "AdjClose    0\n",
       "Volume      0\n",
       "dtype: int64"
      ]
     },
     "execution_count": 10,
     "metadata": {},
     "output_type": "execute_result"
    }
   ],
   "source": [
    "df.isnull().sum()"
   ]
  },
  {
   "cell_type": "code",
   "execution_count": 11,
   "id": "4e3acd45",
   "metadata": {},
   "outputs": [
    {
     "name": "stdout",
     "output_type": "stream",
     "text": [
      "<class 'pandas.core.frame.DataFrame'>\n",
      "RangeIndex: 1302 entries, 0 to 1301\n",
      "Data columns (total 7 columns):\n",
      " #   Column    Non-Null Count  Dtype  \n",
      "---  ------    --------------  -----  \n",
      " 0   Date      1302 non-null   object \n",
      " 1   Open      1302 non-null   float64\n",
      " 2   High      1302 non-null   float64\n",
      " 3   Low       1302 non-null   float64\n",
      " 4   Close     1302 non-null   float64\n",
      " 5   AdjClose  1302 non-null   float64\n",
      " 6   Volume    1302 non-null   int64  \n",
      "dtypes: float64(5), int64(1), object(1)\n",
      "memory usage: 71.3+ KB\n"
     ]
    }
   ],
   "source": [
    "df.info()"
   ]
  },
  {
   "cell_type": "code",
   "execution_count": 12,
   "id": "efb3837a",
   "metadata": {},
   "outputs": [
    {
     "data": {
      "text/plain": [
       "<Figure size 1440x720 with 0 Axes>"
      ]
     },
     "execution_count": 12,
     "metadata": {},
     "output_type": "execute_result"
    },
    {
     "data": {
      "text/plain": [
       "<Figure size 1440x720 with 0 Axes>"
      ]
     },
     "metadata": {},
     "output_type": "display_data"
    }
   ],
   "source": [
    "# Plot \"AdjClose\" and \"Date\" of ENPH\n",
    "plt.figure(figsize=(20, 10))"
   ]
  },
  {
   "cell_type": "code",
   "execution_count": 14,
   "id": "b8c7c4c9",
   "metadata": {},
   "outputs": [
    {
     "data": {
      "text/plain": [
       "Text(0.5, 1.0, 'Adj Close Prices of ENPH')"
      ]
     },
     "execution_count": 14,
     "metadata": {},
     "output_type": "execute_result"
    },
    {
     "data": {
      "image/png": "[encoded data removed]",
      "text/plain": [
       "<Figure size 1440x720 with 1 Axes>"
      ]
     },
     "metadata": {},
     "output_type": "display_data"
    }
   ],
   "source": [
    "plt.subplot(2,1,1)\n",
    "plt.plot(df['AdjClose'],  label='Adj Close', color=\"orange\" )\n",
    "plt.legend(loc=\"upper right\")\n",
    "plt.title('Adj Close Prices of ENPH')"
   ]
  },
  {
   "cell_type": "code",
   "execution_count": 15,
   "id": "e5fd3616",
   "metadata": {},
   "outputs": [],
   "source": [
    "# #Reindex data using a DatetimeIndex\n",
    "df.set_index(pd.DatetimeIndex(df['Date']), inplace=True)"
   ]
  },
  {
   "cell_type": "code",
   "execution_count": 16,
   "id": "74b90016",
   "metadata": {},
   "outputs": [
    {
     "name": "stdout",
     "output_type": "stream",
     "text": [
      "(1302, 7)\n"
     ]
    },
    {
     "data": {
      "text/html": [
       "<div>\n",
       "<style scoped>\n",
       "    .dataframe tbody tr th:only-of-type {\n",
       "        vertical-align: middle;\n",
       "    }\n",
       "\n",
       "    .dataframe tbody tr th {\n",
       "        vertical-align: top;\n",
       "    }\n",
       "\n",
       "    .dataframe thead th {\n",
       "        text-align: right;\n",
       "    }\n",
       "</style>\n",
       "<table border=\"1\" class=\"dataframe\">\n",
       "  <thead>\n",
       "    <tr style=\"text-align: right;\">\n",
       "      <th></th>\n",
       "      <th>Open</th>\n",
       "      <th>High</th>\n",
       "      <th>Low</th>\n",
       "      <th>Close</th>\n",
       "      <th>AdjClose</th>\n",
       "      <th>Volume</th>\n",
       "    </tr>\n",
       "    <tr>\n",
       "      <th>Date</th>\n",
       "      <th></th>\n",
       "      <th></th>\n",
       "      <th></th>\n",
       "      <th></th>\n",
       "      <th></th>\n",
       "      <th></th>\n",
       "    </tr>\n",
       "  </thead>\n",
       "  <tbody>\n",
       "    <tr>\n",
       "      <th>2017-01-03</th>\n",
       "      <td>1.02</td>\n",
       "      <td>1.05</td>\n",
       "      <td>1.01</td>\n",
       "      <td>1.05</td>\n",
       "      <td>1.05</td>\n",
       "      <td>445900</td>\n",
       "    </tr>\n",
       "    <tr>\n",
       "      <th>2017-01-04</th>\n",
       "      <td>1.09</td>\n",
       "      <td>1.15</td>\n",
       "      <td>1.05</td>\n",
       "      <td>1.15</td>\n",
       "      <td>1.15</td>\n",
       "      <td>903000</td>\n",
       "    </tr>\n",
       "    <tr>\n",
       "      <th>2017-01-05</th>\n",
       "      <td>1.19</td>\n",
       "      <td>1.19</td>\n",
       "      <td>1.11</td>\n",
       "      <td>1.12</td>\n",
       "      <td>1.12</td>\n",
       "      <td>308700</td>\n",
       "    </tr>\n",
       "    <tr>\n",
       "      <th>2017-01-06</th>\n",
       "      <td>1.12</td>\n",
       "      <td>1.14</td>\n",
       "      <td>1.08</td>\n",
       "      <td>1.11</td>\n",
       "      <td>1.11</td>\n",
       "      <td>259700</td>\n",
       "    </tr>\n",
       "    <tr>\n",
       "      <th>2017-01-09</th>\n",
       "      <td>1.10</td>\n",
       "      <td>1.11</td>\n",
       "      <td>1.08</td>\n",
       "      <td>1.11</td>\n",
       "      <td>1.11</td>\n",
       "      <td>180000</td>\n",
       "    </tr>\n",
       "  </tbody>\n",
       "</table>\n",
       "</div>"
      ],
      "text/plain": [
       "            Open  High   Low  Close  AdjClose  Volume\n",
       "Date                                                 \n",
       "2017-01-03  1.02  1.05  1.01   1.05      1.05  445900\n",
       "2017-01-04  1.09  1.15  1.05   1.15      1.15  903000\n",
       "2017-01-05  1.19  1.19  1.11   1.12      1.12  308700\n",
       "2017-01-06  1.12  1.14  1.08   1.11      1.11  259700\n",
       "2017-01-09  1.10  1.11  1.08   1.11      1.11  180000"
      ]
     },
     "execution_count": 16,
     "metadata": {},
     "output_type": "execute_result"
    }
   ],
   "source": [
    "# print(Shape of the data:')\n",
    "print(df.shape)\n",
    "\n",
    "# # setting the index as date\n",
    "df['Date'] = pd.to_datetime(df.Date,format='%Y-%m-%d')\n",
    "df = df.set_index('Date')\n",
    "df.head()"
   ]
  },
  {
   "cell_type": "code",
   "execution_count": 17,
   "id": "106a14f7",
   "metadata": {},
   "outputs": [
    {
     "name": "stdout",
     "output_type": "stream",
     "text": [
      "<class 'pandas.core.frame.DataFrame'>\n",
      "DatetimeIndex: 1302 entries, 2017-01-03 to 2022-03-04\n",
      "Data columns (total 6 columns):\n",
      " #   Column    Non-Null Count  Dtype  \n",
      "---  ------    --------------  -----  \n",
      " 0   Open      1302 non-null   float64\n",
      " 1   High      1302 non-null   float64\n",
      " 2   Low       1302 non-null   float64\n",
      " 3   Close     1302 non-null   float64\n",
      " 4   AdjClose  1302 non-null   float64\n",
      " 5   Volume    1302 non-null   int64  \n",
      "dtypes: float64(5), int64(1)\n",
      "memory usage: 71.2 KB\n"
     ]
    }
   ],
   "source": [
    "df.info()"
   ]
  },
  {
   "cell_type": "code",
   "execution_count": 18,
   "id": "5c1a88ed",
   "metadata": {},
   "outputs": [
    {
     "data": {
      "text/plain": [
       "Open        float64\n",
       "High        float64\n",
       "Low         float64\n",
       "Close       float64\n",
       "AdjClose    float64\n",
       "Volume        int64\n",
       "dtype: object"
      ]
     },
     "execution_count": 18,
     "metadata": {},
     "output_type": "execute_result"
    }
   ],
   "source": [
    "df.dtypes"
   ]
  },
  {
   "cell_type": "code",
   "execution_count": 19,
   "id": "f076ace5",
   "metadata": {},
   "outputs": [
    {
     "name": "stdout",
     "output_type": "stream",
     "text": [
      "(1302, 6)\n"
     ]
    }
   ],
   "source": [
    "print(df.shape)"
   ]
  },
  {
   "cell_type": "code",
   "execution_count": 20,
   "id": "c6901628",
   "metadata": {},
   "outputs": [
    {
     "data": {
      "text/html": [
       "<div>\n",
       "<style scoped>\n",
       "    .dataframe tbody tr th:only-of-type {\n",
       "        vertical-align: middle;\n",
       "    }\n",
       "\n",
       "    .dataframe tbody tr th {\n",
       "        vertical-align: top;\n",
       "    }\n",
       "\n",
       "    .dataframe thead th {\n",
       "        text-align: right;\n",
       "    }\n",
       "</style>\n",
       "<table border=\"1\" class=\"dataframe\">\n",
       "  <thead>\n",
       "    <tr style=\"text-align: right;\">\n",
       "      <th></th>\n",
       "      <th>Open</th>\n",
       "      <th>High</th>\n",
       "      <th>Low</th>\n",
       "      <th>Close</th>\n",
       "      <th>AdjClose</th>\n",
       "      <th>Volume</th>\n",
       "    </tr>\n",
       "  </thead>\n",
       "  <tbody>\n",
       "    <tr>\n",
       "      <th>count</th>\n",
       "      <td>1302.000000</td>\n",
       "      <td>1302.000000</td>\n",
       "      <td>1302.000000</td>\n",
       "      <td>1302.000000</td>\n",
       "      <td>1302.000000</td>\n",
       "      <td>1.302000e+03</td>\n",
       "    </tr>\n",
       "    <tr>\n",
       "      <th>mean</th>\n",
       "      <td>57.269339</td>\n",
       "      <td>58.975983</td>\n",
       "      <td>55.475346</td>\n",
       "      <td>57.214324</td>\n",
       "      <td>57.214324</td>\n",
       "      <td>3.092445e+06</td>\n",
       "    </tr>\n",
       "    <tr>\n",
       "      <th>std</th>\n",
       "      <td>70.819424</td>\n",
       "      <td>72.705733</td>\n",
       "      <td>68.674717</td>\n",
       "      <td>70.601305</td>\n",
       "      <td>70.601305</td>\n",
       "      <td>3.325321e+06</td>\n",
       "    </tr>\n",
       "    <tr>\n",
       "      <th>min</th>\n",
       "      <td>0.700000</td>\n",
       "      <td>0.710000</td>\n",
       "      <td>0.650000</td>\n",
       "      <td>0.700000</td>\n",
       "      <td>0.700000</td>\n",
       "      <td>9.570000e+04</td>\n",
       "    </tr>\n",
       "    <tr>\n",
       "      <th>25%</th>\n",
       "      <td>4.360000</td>\n",
       "      <td>4.502500</td>\n",
       "      <td>4.195000</td>\n",
       "      <td>4.360000</td>\n",
       "      <td>4.360000</td>\n",
       "      <td>1.312050e+06</td>\n",
       "    </tr>\n",
       "    <tr>\n",
       "      <th>50%</th>\n",
       "      <td>19.770000</td>\n",
       "      <td>20.275000</td>\n",
       "      <td>19.235000</td>\n",
       "      <td>19.665000</td>\n",
       "      <td>19.665000</td>\n",
       "      <td>2.433550e+06</td>\n",
       "    </tr>\n",
       "    <tr>\n",
       "      <th>75%</th>\n",
       "      <td>119.007502</td>\n",
       "      <td>122.122501</td>\n",
       "      <td>114.515001</td>\n",
       "      <td>119.439999</td>\n",
       "      <td>119.439999</td>\n",
       "      <td>3.822625e+06</td>\n",
       "    </tr>\n",
       "    <tr>\n",
       "      <th>max</th>\n",
       "      <td>269.160004</td>\n",
       "      <td>282.459991</td>\n",
       "      <td>260.579987</td>\n",
       "      <td>267.739990</td>\n",
       "      <td>267.739990</td>\n",
       "      <td>5.517290e+07</td>\n",
       "    </tr>\n",
       "  </tbody>\n",
       "</table>\n",
       "</div>"
      ],
      "text/plain": [
       "              Open         High          Low        Close     AdjClose  \\\n",
       "count  1302.000000  1302.000000  1302.000000  1302.000000  1302.000000   \n",
       "mean     57.269339    58.975983    55.475346    57.214324    57.214324   \n",
       "std      70.819424    72.705733    68.674717    70.601305    70.601305   \n",
       "min       0.700000     0.710000     0.650000     0.700000     0.700000   \n",
       "25%       4.360000     4.502500     4.195000     4.360000     4.360000   \n",
       "50%      19.770000    20.275000    19.235000    19.665000    19.665000   \n",
       "75%     119.007502   122.122501   114.515001   119.439999   119.439999   \n",
       "max     269.160004   282.459991   260.579987   267.739990   267.739990   \n",
       "\n",
       "             Volume  \n",
       "count  1.302000e+03  \n",
       "mean   3.092445e+06  \n",
       "std    3.325321e+06  \n",
       "min    9.570000e+04  \n",
       "25%    1.312050e+06  \n",
       "50%    2.433550e+06  \n",
       "75%    3.822625e+06  \n",
       "max    5.517290e+07  "
      ]
     },
     "execution_count": 20,
     "metadata": {},
     "output_type": "execute_result"
    }
   ],
   "source": [
    "df.describe()"
   ]
  },
  {
   "cell_type": "markdown",
   "id": "fa42f05c",
   "metadata": {},
   "source": [
    "# 3.Plot our data to get a visual picture"
   ]
  },
  {
   "cell_type": "code",
   "execution_count": 21,
   "id": "21a1d889",
   "metadata": {},
   "outputs": [
    {
     "data": {
      "text/plain": [
       "<Figure size 1440x720 with 0 Axes>"
      ]
     },
     "execution_count": 21,
     "metadata": {},
     "output_type": "execute_result"
    },
    {
     "data": {
      "text/plain": [
       "<Figure size 1440x720 with 0 Axes>"
      ]
     },
     "metadata": {},
     "output_type": "display_data"
    }
   ],
   "source": [
    "# Plot \"AdjClose\" and \"Date\" of ENPH\n",
    "plt.figure(figsize=(20, 10))"
   ]
  },
  {
   "cell_type": "code",
   "execution_count": 22,
   "id": "2d0eb5d1",
   "metadata": {},
   "outputs": [
    {
     "data": {
      "text/plain": [
       "Text(0.5, 1.0, 'Adj Close Prices of ENPH')"
      ]
     },
     "execution_count": 22,
     "metadata": {},
     "output_type": "execute_result"
    },
    {
     "data": {
      "image/png": "[encoded data removed]",
      "text/plain": [
       "<Figure size 1440x720 with 1 Axes>"
      ]
     },
     "metadata": {},
     "output_type": "display_data"
    }
   ],
   "source": [
    "plt.subplot(2,1,1)\n",
    "plt.plot(df['AdjClose'],  label='Adj Close', color=\"orange\" )\n",
    "plt.legend(loc=\"upper right\")\n",
    "plt.title('Adj Close Prices of ENPH')"
   ]
  },
  {
   "cell_type": "code",
   "execution_count": 23,
   "id": "f58c787c",
   "metadata": {},
   "outputs": [],
   "source": [
    "# a significant upward trend from 2020 to 2021 (increasing from xxx to xxx.)"
   ]
  },
  {
   "cell_type": "code",
   "execution_count": 24,
   "id": "b5491cc6",
   "metadata": {
    "scrolled": true
   },
   "outputs": [
    {
     "data": {
      "image/png": "[encoded data removed]",
      "text/plain": [
       "<Figure size 1440x720 with 1 Axes>"
      ]
     },
     "metadata": {},
     "output_type": "display_data"
    }
   ],
   "source": [
    "#Plot \"Volume\" and \"Date\" of ENPH\n",
    "plt.subplot(2,1,2)\n",
    "plt.plot(df['Volume'], '.-', label='Volume', color=\"green\" )\n",
    "plt.legend(loc=\"upper right\")\n",
    "plt.title('Volume Of Shares Traded')\n",
    "plt.show()"
   ]
  },
  {
   "cell_type": "code",
   "execution_count": 25,
   "id": "130045e8",
   "metadata": {},
   "outputs": [
    {
     "data": {
      "text/plain": [
       "<AxesSubplot:ylabel='Density'>"
      ]
     },
     "execution_count": 25,
     "metadata": {},
     "output_type": "execute_result"
    },
    {
     "data": {
      "image/png": "[encoded data removed]",
      "text/plain": [
       "<Figure size 1440x720 with 1 Axes>"
      ]
     },
     "metadata": {},
     "output_type": "display_data"
    }
   ],
   "source": [
    "#Distribution of the dataset\n",
    "df_adjclose = df['AdjClose']\n",
    "df_adjclose.plot(kind='kde')"
   ]
  },
  {
   "cell_type": "markdown",
   "id": "9bb32dcd",
   "metadata": {},
   "source": [
    "# 4.Linear Regression"
   ]
  },
  {
   "cell_type": "code",
   "execution_count": 26,
   "id": "9b750ed0",
   "metadata": {},
   "outputs": [],
   "source": [
    "from sklearn.model_selection import train_test_split\n",
    "from sklearn.preprocessing import StandardScaler\n",
    "from sklearn.linear_model import LinearRegression\n",
    "from sklearn.metrics import accuracy_score\n",
    "from sklearn import metrics"
   ]
  },
  {
   "cell_type": "code",
   "execution_count": 28,
   "id": "789bddb3",
   "metadata": {},
   "outputs": [
    {
     "name": "stderr",
     "output_type": "stream",
     "text": [
      "/Users/ruiminma/opt/anaconda3/envs/mlenv/lib/python3.7/site-packages/ipykernel_launcher.py:3: FutureWarning: In a future version of pandas all arguments of DataFrame.drop except for the argument 'labels' will be keyword-only\n",
      "  This is separate from the ipykernel package so we can avoid doing imports until\n"
     ]
    }
   ],
   "source": [
    "#split data into features and target values\n",
    "y = df['AdjClose'].values\n",
    "X = df.drop(['AdjClose'],1).values"
   ]
  },
  {
   "cell_type": "code",
   "execution_count": 29,
   "id": "1a332ee1",
   "metadata": {},
   "outputs": [],
   "source": [
    "# Split the  data into a traing and testing dataset\n",
    "X_train, X_test, y_train, y_test = train_test_split(X, y, random_state=78)"
   ]
  },
  {
   "cell_type": "code",
   "execution_count": 30,
   "id": "049cbf47",
   "metadata": {},
   "outputs": [],
   "source": [
    "# Create a StandardScaler instance\n",
    "scaler = StandardScaler()"
   ]
  },
  {
   "cell_type": "code",
   "execution_count": 31,
   "id": "5fcecaab",
   "metadata": {},
   "outputs": [],
   "source": [
    "# Fit the StandardScaler\n",
    "X_scaler = scaler.fit(X_train)"
   ]
  },
  {
   "cell_type": "code",
   "execution_count": 32,
   "id": "81cf08cd",
   "metadata": {},
   "outputs": [],
   "source": [
    "# Scale the data\n",
    "X_train_scaled = X_scaler.transform(X_train)\n",
    "X_test_scaled = X_scaler.transform(X_test)"
   ]
  },
  {
   "cell_type": "code",
   "execution_count": 33,
   "id": "40d27207",
   "metadata": {},
   "outputs": [],
   "source": [
    "# importing module\n",
    "from sklearn.linear_model import LinearRegression"
   ]
  },
  {
   "cell_type": "code",
   "execution_count": 34,
   "id": "43c5f194",
   "metadata": {},
   "outputs": [],
   "source": [
    "# creating an object of LinearRegression class\n",
    "module = LinearRegression()"
   ]
  },
  {
   "cell_type": "code",
   "execution_count": 35,
   "id": "532eb302",
   "metadata": {},
   "outputs": [
    {
     "data": {
      "text/plain": [
       "LinearRegression(copy_X=True, fit_intercept=True, n_jobs=None, normalize=False)"
      ]
     },
     "execution_count": 35,
     "metadata": {},
     "output_type": "execute_result"
    }
   ],
   "source": [
    "# fitting the training data\n",
    "module.fit(X_train_scaled,y_train)"
   ]
  },
  {
   "cell_type": "code",
   "execution_count": 36,
   "id": "00eb44ed",
   "metadata": {},
   "outputs": [
    {
     "data": {
      "text/plain": [
       "array([  1.23    ,   0.94    ,  27.23    , 183.449997,   0.94    ,\n",
       "         0.79    ,  25.4     ,  57.220001, 125.120003,  55.43    ,\n",
       "        19.639999, 188.690002,   0.76    ,   2.1     ,   0.84    ,\n",
       "         0.82    ,   4.41    ,   1.41    ,  19.65    , 204.039993,\n",
       "         4.15    , 181.419998,  64.169998,  67.040001, 122.959999,\n",
       "         2.6     , 190.850006,   1.3     ,  51.639999,  39.610001,\n",
       "        28.719999,   0.82    , 163.080002,   0.96    , 163.449997,\n",
       "        15.81    ,   1.41    ,   0.86    ,   2.37    ,   4.26    ,\n",
       "         4.54    ,   3.94    ,  18.120001, 139.25    ,   5.79    ,\n",
       "         1.35    ,  34.34    ,   4.9     , 129.589996,   1.37    ,\n",
       "        26.809999,  21.870001,  15.92    ,   4.74    ,   5.08    ,\n",
       "         1.21    ,   5.98    ,   1.25    , 177.270004,  98.57    ,\n",
       "       175.490005,  29.67    ,   0.92    , 172.240005,   7.02    ,\n",
       "       165.339996, 127.260002,  54.490002,   5.53    ,  32.560001,\n",
       "        33.490002, 128.850006,  18.440001,   3.85    ,  60.360001,\n",
       "        98.089996,   4.68    ,   0.84    ,  70.720001,   1.11    ,\n",
       "        48.990002,   1.49    ,   0.85    ,  14.21    ,   5.57    ,\n",
       "         9.18    , 170.889999,  47.450001,  18.59    ,  58.43    ,\n",
       "        16.290001,  33.02    , 147.350006,   4.91    ,  14.82    ,\n",
       "        52.32    ,   6.95    , 141.820007,  14.88    , 186.410004,\n",
       "       164.410004,   5.08    ,   0.84    ,  98.050003,   2.58    ,\n",
       "         4.97    ,  19.32    ,  75.160004,  31.58    ,   4.51    ,\n",
       "         6.44    , 126.019997, 176.699997,   0.8     ,  19.370001,\n",
       "         6.48    , 235.      ,  20.190001, 172.929993,   6.9     ,\n",
       "         1.38    ,   7.4     ,  43.25    ,   9.66    ,   5.68    ,\n",
       "        49.060001, 109.389999,  23.370001, 151.490005, 176.889999,\n",
       "         2.56    ,  20.809999,   7.      , 110.709999, 195.630005,\n",
       "        18.969999, 108.970001,   4.38    ,  41.5     ,   1.75    ,\n",
       "        45.560001,   0.77    , 186.339996, 139.070007,  34.830002,\n",
       "        22.26    ,   7.3     , 181.830002,   0.82    ,   0.77    ,\n",
       "        41.73    ,  10.24    , 179.429993, 134.740005,   4.47    ,\n",
       "        13.56    ,  27.700001,   1.28    ,   3.89    ,   4.41    ,\n",
       "         1.41    , 172.240005,   5.68    ,  15.97    ,   1.85    ,\n",
       "        56.419998,   1.25    ,   0.72    , 153.130005,   3.98    ,\n",
       "         0.82    , 144.5     ,  27.469999,   4.39    ,   1.32    ,\n",
       "        62.220001, 188.330002,  22.23    ,   4.61    ,   5.5     ,\n",
       "         5.32    ,   0.71    ,   9.19    ,  57.470001,   7.3     ,\n",
       "        53.049999, 142.309998,   4.79    ,  67.300003,   2.76    ,\n",
       "         4.94    ,  12.93    , 117.080002,  75.239998,  61.209999,\n",
       "         1.34    ,  57.23    ,   4.93    ,  57.279999,   8.87    ,\n",
       "       155.080002, 251.589996,   4.64    ,  66.160004,  55.880001,\n",
       "         2.66    , 102.809998, 239.389999, 124.919998,  35.509998,\n",
       "         1.44    ,   6.62    ,   1.51    ,  25.74    ,   4.99    ,\n",
       "       103.830002,   1.94    , 176.429993,   6.69    ,   4.92    ,\n",
       "         5.7     ,   1.06    , 165.279999, 160.460007,   5.82    ,\n",
       "         1.33    ,   5.66    ,   4.5     ,  82.589996, 154.029999,\n",
       "       117.209999,  38.790001,  39.48    ,  29.780001,   1.15    ,\n",
       "       172.919998, 193.199997, 119.93    , 176.059998,   1.18    ,\n",
       "       155.970001,   4.3     ,   9.91    ,   2.7     , 101.529999,\n",
       "         2.42    ,   4.26    ,   9.45    , 134.580002, 175.470001,\n",
       "         9.83    ,   1.4     , 237.899994,   5.59    ,   4.24    ,\n",
       "         1.52    , 157.229996, 159.029999,  80.800003,  27.120001,\n",
       "         9.73    ,  21.26    ,  56.689999,   1.36    , 193.740005,\n",
       "        17.92    , 123.860001,   9.28    ,   5.8     ,  52.900002,\n",
       "        38.049999,   4.83    ,  21.15    ,   0.76    , 153.729996,\n",
       "         5.76    ,  16.360001,   2.7     ,   1.4     , 143.929993,\n",
       "         1.43    , 167.369995,  57.740002, 104.75    ,   4.5     ,\n",
       "         8.46    ,   9.35    ,  18.83    , 239.529999,   2.72    ,\n",
       "       103.330002,   4.42    ,   2.38    ,  52.369999,   6.72    ,\n",
       "       164.710007, 148.699997, 171.690002,  10.21    ,   6.73    ,\n",
       "       146.910004,  24.040001,   4.98    ,  43.380001,   4.03    ,\n",
       "       170.600006,   4.85    ,   1.45    ,  27.450001,   4.62    ,\n",
       "         1.64    , 128.100006,   1.3     ,  13.93    ,  55.799999,\n",
       "       231.630005,   4.4     ,   0.89    ,   4.89    ,  25.959999,\n",
       "         1.37    ,   1.24    , 127.830002,   4.4     ,   1.36    ,\n",
       "        59.93    ])"
      ]
     },
     "execution_count": 36,
     "metadata": {},
     "output_type": "execute_result"
    }
   ],
   "source": [
    "y_prediction =  module.predict(X_test_scaled )\n",
    "y_prediction"
   ]
  },
  {
   "cell_type": "code",
   "execution_count": 37,
   "id": "4111178c",
   "metadata": {},
   "outputs": [],
   "source": [
    "from sklearn.metrics import r2_score\n",
    "from sklearn.metrics import mean_squared_error"
   ]
  },
  {
   "cell_type": "code",
   "execution_count": 38,
   "id": "8af5c870",
   "metadata": {},
   "outputs": [
    {
     "name": "stdout",
     "output_type": "stream",
     "text": [
      "accuracy is = 1.0\n",
      "mean_sqrd_error is = 6.923687429717172e-29\n",
      "root_mean_squared error of is = 8.320869804123348e-15\n"
     ]
    }
   ],
   "source": [
    "# predicting the accuracy score\n",
    "score=r2_score(y_test,y_prediction)\n",
    "print(\"accuracy is =\",score)\n",
    "print(\"mean_sqrd_error is =\",mean_squared_error(y_test,y_prediction))\n",
    "print(\"root_mean_squared error of is =\",np.sqrt(mean_squared_error(y_test,y_prediction)))"
   ]
  },
  {
   "cell_type": "code",
   "execution_count": null,
   "id": "f4e5668c",
   "metadata": {},
   "outputs": [],
   "source": []
  }
 ],
 "metadata": {
  "kernelspec": {
   "display_name": "mlenv",
   "language": "python",
   "name": "mlenv"
  },
  "language_info": {
   "codemirror_mode": {
    "name": "ipython",
    "version": 3
   },
   "file_extension": ".py",
   "mimetype": "text/x-python",
   "name": "python",
   "nbconvert_exporter": "python",
   "pygments_lexer": "ipython3",
   "version": "3.7.11"
  }
 },
 "nbformat": 4,
 "nbformat_minor": 5
}
