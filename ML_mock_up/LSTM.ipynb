{
 "cells": [
  {
   "cell_type": "markdown",
   "id": "4016a308",
   "metadata": {},
   "source": [
    "# Import the libraries"
   ]
  },
  {
   "cell_type": "code",
   "execution_count": 21,
   "id": "a1b0dbae",
   "metadata": {},
   "outputs": [],
   "source": [
    "#Importing the Libraries\n",
    "import pandas as pd\n",
    "import numpy as np\n",
    "%matplotlib inline\n",
    "import matplotlib. pyplot as plt\n",
    "import matplotlib"
   ]
  },
  {
   "cell_type": "code",
   "execution_count": 23,
   "id": "fd5e9378",
   "metadata": {},
   "outputs": [],
   "source": [
    "from pathlib import Path"
   ]
  },
  {
   "cell_type": "code",
   "execution_count": 2,
   "id": "bc4af583",
   "metadata": {},
   "outputs": [
    {
     "name": "stdout",
     "output_type": "stream",
     "text": [
      "Requirement already satisfied: pandas-datareader in /Users/ruiminma/opt/anaconda3/envs/mlenv/lib/python3.7/site-packages (0.10.0)\n",
      "Requirement already satisfied: requests>=2.19.0 in /Users/ruiminma/.local/lib/python3.7/site-packages (from pandas-datareader) (2.27.1)\n",
      "Requirement already satisfied: pandas>=0.23 in /Users/ruiminma/opt/anaconda3/envs/mlenv/lib/python3.7/site-packages (from pandas-datareader) (1.3.4)\n",
      "Requirement already satisfied: lxml in /Users/ruiminma/opt/anaconda3/envs/mlenv/lib/python3.7/site-packages (from pandas-datareader) (4.8.0)\n",
      "Requirement already satisfied: python-dateutil>=2.7.3 in /Users/ruiminma/opt/anaconda3/envs/mlenv/lib/python3.7/site-packages (from pandas>=0.23->pandas-datareader) (2.8.2)\n",
      "Requirement already satisfied: pytz>=2017.3 in /Users/ruiminma/opt/anaconda3/envs/mlenv/lib/python3.7/site-packages (from pandas>=0.23->pandas-datareader) (2021.3)\n",
      "Requirement already satisfied: numpy>=1.17.3 in /Users/ruiminma/.local/lib/python3.7/site-packages (from pandas>=0.23->pandas-datareader) (1.21.5)\n",
      "Requirement already satisfied: six>=1.5 in /Users/ruiminma/.local/lib/python3.7/site-packages (from python-dateutil>=2.7.3->pandas>=0.23->pandas-datareader) (1.16.0)\n",
      "Requirement already satisfied: idna<4,>=2.5 in /Users/ruiminma/.local/lib/python3.7/site-packages (from requests>=2.19.0->pandas-datareader) (3.3)\n",
      "Requirement already satisfied: charset-normalizer~=2.0.0 in /Users/ruiminma/.local/lib/python3.7/site-packages (from requests>=2.19.0->pandas-datareader) (2.0.12)\n",
      "Requirement already satisfied: certifi>=2017.4.17 in /Users/ruiminma/.local/lib/python3.7/site-packages (from requests>=2.19.0->pandas-datareader) (2021.10.8)\n",
      "Requirement already satisfied: urllib3<1.27,>=1.21.1 in /Users/ruiminma/.local/lib/python3.7/site-packages (from requests>=2.19.0->pandas-datareader) (1.26.9)\n",
      "Note: you may need to restart the kernel to use updated packages.\n"
     ]
    }
   ],
   "source": [
    "pip install pandas-datareader"
   ]
  },
  {
   "cell_type": "code",
   "execution_count": 3,
   "id": "acb81afd",
   "metadata": {},
   "outputs": [
    {
     "name": "stdout",
     "output_type": "stream",
     "text": [
      "Requirement already satisfied: keras in /Users/ruiminma/.local/lib/python3.7/site-packages (2.8.0)\n",
      "Note: you may need to restart the kernel to use updated packages.\n"
     ]
    }
   ],
   "source": [
    "pip install keras"
   ]
  },
  {
   "cell_type": "code",
   "execution_count": 4,
   "id": "6af4a778",
   "metadata": {},
   "outputs": [
    {
     "name": "stdout",
     "output_type": "stream",
     "text": [
      "Collecting tensorflow\n",
      "  Using cached tensorflow-2.8.0-cp37-cp37m-macosx_10_14_x86_64.whl (217.4 MB)\n",
      "Collecting opt-einsum>=2.3.2\n",
      "  Using cached opt_einsum-3.3.0-py3-none-any.whl (65 kB)\n",
      "Collecting six>=1.12.0\n",
      "  Using cached six-1.16.0-py2.py3-none-any.whl (11 kB)\n",
      "Collecting tensorflow-io-gcs-filesystem>=0.23.1\n",
      "  Using cached tensorflow_io_gcs_filesystem-0.24.0-cp37-cp37m-macosx_10_14_x86_64.whl (1.6 MB)\n",
      "Collecting absl-py>=0.4.0\n",
      "  Using cached absl_py-1.0.0-py3-none-any.whl (126 kB)\n",
      "Collecting google-pasta>=0.1.1\n",
      "  Using cached google_pasta-0.2.0-py3-none-any.whl (57 kB)\n",
      "Collecting protobuf>=3.9.2\n",
      "  Using cached protobuf-3.19.4-cp37-cp37m-macosx_10_9_x86_64.whl (960 kB)\n",
      "Collecting tf-estimator-nightly==2.8.0.dev2021122109\n",
      "  Using cached tf_estimator_nightly-2.8.0.dev2021122109-py2.py3-none-any.whl (462 kB)\n",
      "Collecting keras<2.9,>=2.8.0rc0\n",
      "  Using cached keras-2.8.0-py2.py3-none-any.whl (1.4 MB)\n",
      "Collecting wrapt>=1.11.0\n",
      "  Using cached wrapt-1.14.0-cp37-cp37m-macosx_10_9_x86_64.whl (34 kB)\n",
      "Collecting typing-extensions>=3.6.6\n",
      "  Using cached typing_extensions-4.1.1-py3-none-any.whl (26 kB)\n",
      "Collecting gast>=0.2.1\n",
      "  Using cached gast-0.5.3-py3-none-any.whl (19 kB)\n",
      "Collecting tensorboard<2.9,>=2.8\n",
      "  Using cached tensorboard-2.8.0-py3-none-any.whl (5.8 MB)\n",
      "Collecting libclang>=9.0.1\n",
      "  Using cached libclang-13.0.0-py2.py3-none-macosx_10_9_x86_64.whl (13.0 MB)\n",
      "Collecting flatbuffers>=1.12\n",
      "  Using cached flatbuffers-2.0-py2.py3-none-any.whl (26 kB)\n",
      "Collecting numpy>=1.20\n",
      "  Using cached numpy-1.21.5-cp37-cp37m-macosx_10_9_x86_64.whl (16.9 MB)\n",
      "Collecting setuptools\n",
      "  Using cached setuptools-60.10.0-py3-none-any.whl (1.1 MB)\n",
      "Collecting keras-preprocessing>=1.1.1\n",
      "  Using cached Keras_Preprocessing-1.1.2-py2.py3-none-any.whl (42 kB)\n",
      "Collecting h5py>=2.9.0\n",
      "  Using cached h5py-3.6.0-cp37-cp37m-macosx_10_9_x86_64.whl (3.1 MB)\n",
      "Collecting termcolor>=1.1.0\n",
      "  Using cached termcolor-1.1.0-py3-none-any.whl\n",
      "Collecting grpcio<2.0,>=1.24.3\n",
      "  Using cached grpcio-1.45.0-cp37-cp37m-macosx_10_10_x86_64.whl (4.3 MB)\n",
      "Collecting astunparse>=1.6.0\n",
      "  Using cached astunparse-1.6.3-py2.py3-none-any.whl (12 kB)\n",
      "Collecting wheel<1.0,>=0.23.0\n",
      "  Using cached wheel-0.37.1-py2.py3-none-any.whl (35 kB)\n",
      "Collecting cached-property\n",
      "  Using cached cached_property-1.5.2-py2.py3-none-any.whl (7.6 kB)\n",
      "Collecting google-auth<3,>=1.6.3\n",
      "  Using cached google_auth-2.6.2-py2.py3-none-any.whl (156 kB)\n",
      "Collecting tensorboard-data-server<0.7.0,>=0.6.0\n",
      "  Using cached tensorboard_data_server-0.6.1-py3-none-macosx_10_9_x86_64.whl (3.5 MB)\n",
      "Collecting werkzeug>=0.11.15\n",
      "  Using cached Werkzeug-2.0.3-py3-none-any.whl (289 kB)\n",
      "Collecting google-auth-oauthlib<0.5,>=0.4.1\n",
      "  Using cached google_auth_oauthlib-0.4.6-py2.py3-none-any.whl (18 kB)\n",
      "Collecting markdown>=2.6.8\n",
      "  Using cached Markdown-3.3.6-py3-none-any.whl (97 kB)\n",
      "Collecting requests<3,>=2.21.0\n",
      "  Using cached requests-2.27.1-py2.py3-none-any.whl (63 kB)\n",
      "Collecting tensorboard-plugin-wit>=1.6.0\n",
      "  Using cached tensorboard_plugin_wit-1.8.1-py3-none-any.whl (781 kB)\n",
      "Collecting cachetools<6.0,>=2.0.0\n",
      "  Using cached cachetools-5.0.0-py3-none-any.whl (9.1 kB)\n",
      "Collecting pyasn1-modules>=0.2.1\n",
      "  Using cached pyasn1_modules-0.2.8-py2.py3-none-any.whl (155 kB)\n",
      "Collecting rsa<5,>=3.1.4\n",
      "  Using cached rsa-4.8-py3-none-any.whl (39 kB)\n",
      "Collecting requests-oauthlib>=0.7.0\n",
      "  Using cached requests_oauthlib-1.3.1-py2.py3-none-any.whl (23 kB)\n",
      "Collecting importlib-metadata>=4.4\n",
      "  Using cached importlib_metadata-4.11.3-py3-none-any.whl (18 kB)\n",
      "Collecting zipp>=0.5\n",
      "  Using cached zipp-3.7.0-py3-none-any.whl (5.3 kB)\n",
      "Collecting pyasn1<0.5.0,>=0.4.6\n",
      "  Using cached pyasn1-0.4.8-py2.py3-none-any.whl (77 kB)\n",
      "Collecting idna<4,>=2.5\n",
      "  Using cached idna-3.3-py3-none-any.whl (61 kB)\n",
      "Collecting charset-normalizer~=2.0.0\n",
      "  Using cached charset_normalizer-2.0.12-py3-none-any.whl (39 kB)\n",
      "Collecting urllib3<1.27,>=1.21.1\n",
      "  Using cached urllib3-1.26.9-py2.py3-none-any.whl (138 kB)\n",
      "Collecting certifi>=2017.4.17\n",
      "  Using cached certifi-2021.10.8-py2.py3-none-any.whl (149 kB)\n",
      "Collecting oauthlib>=3.0.0\n",
      "  Using cached oauthlib-3.2.0-py3-none-any.whl (151 kB)\n",
      "Installing collected packages: urllib3, pyasn1, idna, charset-normalizer, certifi, zipp, typing-extensions, six, rsa, requests, pyasn1-modules, oauthlib, cachetools, requests-oauthlib, importlib-metadata, google-auth, wheel, werkzeug, tensorboard-plugin-wit, tensorboard-data-server, setuptools, protobuf, numpy, markdown, grpcio, google-auth-oauthlib, cached-property, absl-py, wrapt, tf-estimator-nightly, termcolor, tensorflow-io-gcs-filesystem, tensorboard, opt-einsum, libclang, keras-preprocessing, keras, h5py, google-pasta, gast, flatbuffers, astunparse, tensorflow\n",
      "\u001b[33m  WARNING: The script normalizer is installed in '/Users/ruiminma/.local/bin' which is not on PATH.\n",
      "  Consider adding this directory to PATH or, if you prefer to suppress this warning, use --no-warn-script-location.\u001b[0m\n",
      "\u001b[33m  WARNING: The scripts pyrsa-decrypt, pyrsa-encrypt, pyrsa-keygen, pyrsa-priv2pub, pyrsa-sign and pyrsa-verify are installed in '/Users/ruiminma/.local/bin' which is not on PATH.\n",
      "  Consider adding this directory to PATH or, if you prefer to suppress this warning, use --no-warn-script-location.\u001b[0m\n",
      "\u001b[33m  WARNING: The script wheel is installed in '/Users/ruiminma/.local/bin' which is not on PATH.\n",
      "  Consider adding this directory to PATH or, if you prefer to suppress this warning, use --no-warn-script-location.\u001b[0m\n",
      "\u001b[33m  WARNING: The scripts f2py, f2py3 and f2py3.7 are installed in '/Users/ruiminma/.local/bin' which is not on PATH.\n",
      "  Consider adding this directory to PATH or, if you prefer to suppress this warning, use --no-warn-script-location.\u001b[0m\n",
      "\u001b[33m  WARNING: The script markdown_py is installed in '/Users/ruiminma/.local/bin' which is not on PATH.\n",
      "  Consider adding this directory to PATH or, if you prefer to suppress this warning, use --no-warn-script-location.\u001b[0m\n",
      "\u001b[33m  WARNING: The script google-oauthlib-tool is installed in '/Users/ruiminma/.local/bin' which is not on PATH.\n",
      "  Consider adding this directory to PATH or, if you prefer to suppress this warning, use --no-warn-script-location.\u001b[0m\n",
      "\u001b[33m  WARNING: The script tensorboard is installed in '/Users/ruiminma/.local/bin' which is not on PATH.\n",
      "  Consider adding this directory to PATH or, if you prefer to suppress this warning, use --no-warn-script-location.\u001b[0m\n",
      "\u001b[33m  WARNING: The scripts estimator_ckpt_converter, import_pb_to_tensorboard, saved_model_cli, tensorboard, tf_upgrade_v2, tflite_convert, toco and toco_from_protos are installed in '/Users/ruiminma/.local/bin' which is not on PATH.\n",
      "  Consider adding this directory to PATH or, if you prefer to suppress this warning, use --no-warn-script-location.\u001b[0m\n",
      "\u001b[31mERROR: pip's dependency resolver does not currently take into account all the packages that are installed. This behaviour is the source of the following dependency conflicts.\n",
      "spyder 5.1.5 requires pyqt5<5.13, which is not installed.\n",
      "spyder 5.1.5 requires pyqtwebengine<5.13, which is not installed.\n",
      "daal4py 2021.5.0 requires daal==2021.4.0, which is not installed.\n",
      "anaconda-project 0.10.2 requires ruamel-yaml, which is not installed.\n",
      "yellowbrick 1.3.post1 requires numpy<1.20,>=1.16.0, but you have numpy 1.21.5 which is incompatible.\n",
      "astroid 2.6.6 requires wrapt<1.13,>=1.11, but you have wrapt 1.14.0 which is incompatible.\u001b[0m\n",
      "Successfully installed absl-py-1.0.0 astunparse-1.6.3 cached-property-1.5.2 cachetools-5.0.0 certifi-2021.10.8 charset-normalizer-2.0.12 flatbuffers-2.0 gast-0.5.3 google-auth-2.6.2 google-auth-oauthlib-0.4.6 google-pasta-0.2.0 grpcio-1.45.0 h5py-3.6.0 idna-3.3 importlib-metadata-4.11.3 keras-2.8.0 keras-preprocessing-1.1.2 libclang-13.0.0 markdown-3.3.6 numpy-1.21.5 oauthlib-3.2.0 opt-einsum-3.3.0 protobuf-3.19.4 pyasn1-0.4.8 pyasn1-modules-0.2.8 requests-2.27.1 requests-oauthlib-1.3.1 rsa-4.8 setuptools-60.10.0 six-1.16.0 tensorboard-2.8.0 tensorboard-data-server-0.6.1 tensorboard-plugin-wit-1.8.1 tensorflow-2.8.0 tensorflow-io-gcs-filesystem-0.24.0 termcolor-1.1.0 tf-estimator-nightly-2.8.0.dev2021122109 typing-extensions-4.1.1 urllib3-1.26.9 werkzeug-2.0.3 wheel-0.37.1 wrapt-1.14.0 zipp-3.7.0\n",
      "Note: you may need to restart the kernel to use updated packages.\n"
     ]
    }
   ],
   "source": [
    "pip install tensorflow --ignore-installed --user"
   ]
  },
  {
   "cell_type": "code",
   "execution_count": 5,
   "id": "eb8c60bc",
   "metadata": {},
   "outputs": [],
   "source": [
    "from sklearn. preprocessing import MinMaxScaler"
   ]
  },
  {
   "cell_type": "code",
   "execution_count": 6,
   "id": "bc754be2",
   "metadata": {},
   "outputs": [],
   "source": [
    "from sklearn.model_selection import TimeSeriesSplit"
   ]
  },
  {
   "cell_type": "code",
   "execution_count": 7,
   "id": "467748e6",
   "metadata": {},
   "outputs": [],
   "source": [
    "from sklearn.metrics import mean_squared_error, r2_score"
   ]
  },
  {
   "cell_type": "code",
   "execution_count": 8,
   "id": "ce54b870",
   "metadata": {},
   "outputs": [],
   "source": [
    "import matplotlib. dates as mandates"
   ]
  },
  {
   "cell_type": "code",
   "execution_count": 9,
   "id": "6ef7e511",
   "metadata": {},
   "outputs": [],
   "source": [
    "from sklearn import linear_model"
   ]
  },
  {
   "cell_type": "code",
   "execution_count": 10,
   "id": "54477b05",
   "metadata": {},
   "outputs": [],
   "source": [
    "from keras.layers import LSTM, Dense, Dropout"
   ]
  },
  {
   "cell_type": "code",
   "execution_count": 13,
   "id": "96accce1",
   "metadata": {},
   "outputs": [],
   "source": [
    "from keras.models import Sequential"
   ]
  },
  {
   "cell_type": "code",
   "execution_count": 15,
   "id": "d512f76c",
   "metadata": {},
   "outputs": [],
   "source": [
    "import keras.backend as K"
   ]
  },
  {
   "cell_type": "code",
   "execution_count": 16,
   "id": "704556d4",
   "metadata": {},
   "outputs": [],
   "source": [
    "from keras.callbacks import EarlyStopping"
   ]
  },
  {
   "cell_type": "code",
   "execution_count": 18,
   "id": "020b1aed",
   "metadata": {},
   "outputs": [],
   "source": [
    "from keras.models import load_model\n",
    "from keras.layers import LSTM\n",
    "from keras.utils.vis_utils import plot_model"
   ]
  },
  {
   "cell_type": "code",
   "execution_count": 19,
   "id": "72736fc3",
   "metadata": {},
   "outputs": [],
   "source": [
    "from tensorflow.keras.optimizers import Adam"
   ]
  },
  {
   "cell_type": "markdown",
   "id": "79e70566",
   "metadata": {},
   "source": [
    "# Import the stock data"
   ]
  },
  {
   "cell_type": "code",
   "execution_count": 24,
   "id": "6aa7a78e",
   "metadata": {},
   "outputs": [
    {
     "data": {
      "text/plain": [
       "Date         False\n",
       "Open         False\n",
       "High         False\n",
       "Low          False\n",
       "Close        False\n",
       "Adj Close    False\n",
       "Volume       False\n",
       "dtype: bool"
      ]
     },
     "execution_count": 24,
     "metadata": {},
     "output_type": "execute_result"
    }
   ],
   "source": [
    "#load .csv file as DataFrame\n",
    "df = pd.read_csv(Path('../ML_mock_up/ENPH_Price.csv'))\n",
    "df.head()\n",
    "#check the null value in the column\n",
    "df.isnull().any()"
   ]
  },
  {
   "cell_type": "code",
   "execution_count": 47,
   "id": "185aab7a",
   "metadata": {},
   "outputs": [
    {
     "data": {
      "text/html": [
       "<div>\n",
       "<style scoped>\n",
       "    .dataframe tbody tr th:only-of-type {\n",
       "        vertical-align: middle;\n",
       "    }\n",
       "\n",
       "    .dataframe tbody tr th {\n",
       "        vertical-align: top;\n",
       "    }\n",
       "\n",
       "    .dataframe thead th {\n",
       "        text-align: right;\n",
       "    }\n",
       "</style>\n",
       "<table border=\"1\" class=\"dataframe\">\n",
       "  <thead>\n",
       "    <tr style=\"text-align: right;\">\n",
       "      <th></th>\n",
       "      <th>Open</th>\n",
       "      <th>High</th>\n",
       "      <th>Low</th>\n",
       "      <th>Close</th>\n",
       "      <th>Adj Close</th>\n",
       "      <th>Volume</th>\n",
       "    </tr>\n",
       "    <tr>\n",
       "      <th>Date</th>\n",
       "      <th></th>\n",
       "      <th></th>\n",
       "      <th></th>\n",
       "      <th></th>\n",
       "      <th></th>\n",
       "      <th></th>\n",
       "    </tr>\n",
       "  </thead>\n",
       "  <tbody>\n",
       "    <tr>\n",
       "      <th>2017-01-03</th>\n",
       "      <td>1.02</td>\n",
       "      <td>1.05</td>\n",
       "      <td>1.01</td>\n",
       "      <td>1.05</td>\n",
       "      <td>1.05</td>\n",
       "      <td>445900</td>\n",
       "    </tr>\n",
       "    <tr>\n",
       "      <th>2017-01-04</th>\n",
       "      <td>1.09</td>\n",
       "      <td>1.15</td>\n",
       "      <td>1.05</td>\n",
       "      <td>1.15</td>\n",
       "      <td>1.15</td>\n",
       "      <td>903000</td>\n",
       "    </tr>\n",
       "    <tr>\n",
       "      <th>2017-01-05</th>\n",
       "      <td>1.19</td>\n",
       "      <td>1.19</td>\n",
       "      <td>1.11</td>\n",
       "      <td>1.12</td>\n",
       "      <td>1.12</td>\n",
       "      <td>308700</td>\n",
       "    </tr>\n",
       "    <tr>\n",
       "      <th>2017-01-06</th>\n",
       "      <td>1.12</td>\n",
       "      <td>1.14</td>\n",
       "      <td>1.08</td>\n",
       "      <td>1.11</td>\n",
       "      <td>1.11</td>\n",
       "      <td>259700</td>\n",
       "    </tr>\n",
       "    <tr>\n",
       "      <th>2017-01-09</th>\n",
       "      <td>1.10</td>\n",
       "      <td>1.11</td>\n",
       "      <td>1.08</td>\n",
       "      <td>1.11</td>\n",
       "      <td>1.11</td>\n",
       "      <td>180000</td>\n",
       "    </tr>\n",
       "  </tbody>\n",
       "</table>\n",
       "</div>"
      ],
      "text/plain": [
       "            Open  High   Low  Close  Adj Close  Volume\n",
       "Date                                                  \n",
       "2017-01-03  1.02  1.05  1.01   1.05       1.05  445900\n",
       "2017-01-04  1.09  1.15  1.05   1.15       1.15  903000\n",
       "2017-01-05  1.19  1.19  1.11   1.12       1.12  308700\n",
       "2017-01-06  1.12  1.14  1.08   1.11       1.11  259700\n",
       "2017-01-09  1.10  1.11  1.08   1.11       1.11  180000"
      ]
     },
     "execution_count": 47,
     "metadata": {},
     "output_type": "execute_result"
    }
   ],
   "source": [
    "#Get the Dataset\n",
    "df = pd.read_csv(Path('../ML_mock_up/ENPH_Price.csv'),na_values=['null'],index_col='Date',parse_dates=True,infer_datetime_format=True)\n",
    "df.head()"
   ]
  },
  {
   "cell_type": "code",
   "execution_count": 82,
   "id": "642a7313",
   "metadata": {},
   "outputs": [
    {
     "data": {
      "text/html": [
       "<div>\n",
       "<style scoped>\n",
       "    .dataframe tbody tr th:only-of-type {\n",
       "        vertical-align: middle;\n",
       "    }\n",
       "\n",
       "    .dataframe tbody tr th {\n",
       "        vertical-align: top;\n",
       "    }\n",
       "\n",
       "    .dataframe thead th {\n",
       "        text-align: right;\n",
       "    }\n",
       "</style>\n",
       "<table border=\"1\" class=\"dataframe\">\n",
       "  <thead>\n",
       "    <tr style=\"text-align: right;\">\n",
       "      <th></th>\n",
       "      <th>Open</th>\n",
       "      <th>High</th>\n",
       "      <th>Low</th>\n",
       "      <th>Close</th>\n",
       "      <th>Adj Close</th>\n",
       "      <th>Volume</th>\n",
       "    </tr>\n",
       "    <tr>\n",
       "      <th>Date</th>\n",
       "      <th></th>\n",
       "      <th></th>\n",
       "      <th></th>\n",
       "      <th></th>\n",
       "      <th></th>\n",
       "      <th></th>\n",
       "    </tr>\n",
       "  </thead>\n",
       "  <tbody>\n",
       "    <tr>\n",
       "      <th>2017-01-03</th>\n",
       "      <td>1.020000</td>\n",
       "      <td>1.050000</td>\n",
       "      <td>1.010000</td>\n",
       "      <td>1.050000</td>\n",
       "      <td>1.050000</td>\n",
       "      <td>445900</td>\n",
       "    </tr>\n",
       "    <tr>\n",
       "      <th>2017-01-04</th>\n",
       "      <td>1.090000</td>\n",
       "      <td>1.150000</td>\n",
       "      <td>1.050000</td>\n",
       "      <td>1.150000</td>\n",
       "      <td>1.150000</td>\n",
       "      <td>903000</td>\n",
       "    </tr>\n",
       "    <tr>\n",
       "      <th>2017-01-05</th>\n",
       "      <td>1.190000</td>\n",
       "      <td>1.190000</td>\n",
       "      <td>1.110000</td>\n",
       "      <td>1.120000</td>\n",
       "      <td>1.120000</td>\n",
       "      <td>308700</td>\n",
       "    </tr>\n",
       "    <tr>\n",
       "      <th>2017-01-06</th>\n",
       "      <td>1.120000</td>\n",
       "      <td>1.140000</td>\n",
       "      <td>1.080000</td>\n",
       "      <td>1.110000</td>\n",
       "      <td>1.110000</td>\n",
       "      <td>259700</td>\n",
       "    </tr>\n",
       "    <tr>\n",
       "      <th>2017-01-09</th>\n",
       "      <td>1.100000</td>\n",
       "      <td>1.110000</td>\n",
       "      <td>1.080000</td>\n",
       "      <td>1.110000</td>\n",
       "      <td>1.110000</td>\n",
       "      <td>180000</td>\n",
       "    </tr>\n",
       "    <tr>\n",
       "      <th>...</th>\n",
       "      <td>...</td>\n",
       "      <td>...</td>\n",
       "      <td>...</td>\n",
       "      <td>...</td>\n",
       "      <td>...</td>\n",
       "      <td>...</td>\n",
       "    </tr>\n",
       "    <tr>\n",
       "      <th>2022-02-28</th>\n",
       "      <td>157.399994</td>\n",
       "      <td>167.949997</td>\n",
       "      <td>157.399994</td>\n",
       "      <td>166.699997</td>\n",
       "      <td>166.699997</td>\n",
       "      <td>5368900</td>\n",
       "    </tr>\n",
       "    <tr>\n",
       "      <th>2022-03-01</th>\n",
       "      <td>167.539993</td>\n",
       "      <td>172.869995</td>\n",
       "      <td>163.520004</td>\n",
       "      <td>170.600006</td>\n",
       "      <td>170.600006</td>\n",
       "      <td>3539800</td>\n",
       "    </tr>\n",
       "    <tr>\n",
       "      <th>2022-03-02</th>\n",
       "      <td>169.880005</td>\n",
       "      <td>169.880005</td>\n",
       "      <td>159.529999</td>\n",
       "      <td>163.889999</td>\n",
       "      <td>163.889999</td>\n",
       "      <td>3473300</td>\n",
       "    </tr>\n",
       "    <tr>\n",
       "      <th>2022-03-03</th>\n",
       "      <td>164.860001</td>\n",
       "      <td>165.729996</td>\n",
       "      <td>157.210007</td>\n",
       "      <td>159.029999</td>\n",
       "      <td>159.029999</td>\n",
       "      <td>2329200</td>\n",
       "    </tr>\n",
       "    <tr>\n",
       "      <th>2022-03-04</th>\n",
       "      <td>159.820007</td>\n",
       "      <td>164.250000</td>\n",
       "      <td>152.949997</td>\n",
       "      <td>158.149994</td>\n",
       "      <td>158.149994</td>\n",
       "      <td>2512400</td>\n",
       "    </tr>\n",
       "  </tbody>\n",
       "</table>\n",
       "<p>1302 rows × 6 columns</p>\n",
       "</div>"
      ],
      "text/plain": [
       "                  Open        High         Low       Close   Adj Close  \\\n",
       "Date                                                                     \n",
       "2017-01-03    1.020000    1.050000    1.010000    1.050000    1.050000   \n",
       "2017-01-04    1.090000    1.150000    1.050000    1.150000    1.150000   \n",
       "2017-01-05    1.190000    1.190000    1.110000    1.120000    1.120000   \n",
       "2017-01-06    1.120000    1.140000    1.080000    1.110000    1.110000   \n",
       "2017-01-09    1.100000    1.110000    1.080000    1.110000    1.110000   \n",
       "...                ...         ...         ...         ...         ...   \n",
       "2022-02-28  157.399994  167.949997  157.399994  166.699997  166.699997   \n",
       "2022-03-01  167.539993  172.869995  163.520004  170.600006  170.600006   \n",
       "2022-03-02  169.880005  169.880005  159.529999  163.889999  163.889999   \n",
       "2022-03-03  164.860001  165.729996  157.210007  159.029999  159.029999   \n",
       "2022-03-04  159.820007  164.250000  152.949997  158.149994  158.149994   \n",
       "\n",
       "             Volume  \n",
       "Date                 \n",
       "2017-01-03   445900  \n",
       "2017-01-04   903000  \n",
       "2017-01-05   308700  \n",
       "2017-01-06   259700  \n",
       "2017-01-09   180000  \n",
       "...             ...  \n",
       "2022-02-28  5368900  \n",
       "2022-03-01  3539800  \n",
       "2022-03-02  3473300  \n",
       "2022-03-03  2329200  \n",
       "2022-03-04  2512400  \n",
       "\n",
       "[1302 rows x 6 columns]"
      ]
     },
     "execution_count": 82,
     "metadata": {},
     "output_type": "execute_result"
    }
   ],
   "source": [
    "df"
   ]
  },
  {
   "cell_type": "code",
   "execution_count": 48,
   "id": "44c12410",
   "metadata": {},
   "outputs": [
    {
     "name": "stdout",
     "output_type": "stream",
     "text": [
      "(1302, 6)\n"
     ]
    }
   ],
   "source": [
    "print(df.shape)"
   ]
  },
  {
   "cell_type": "code",
   "execution_count": 31,
   "id": "97c48f24",
   "metadata": {},
   "outputs": [
    {
     "data": {
      "text/plain": [
       "Date         0\n",
       "Open         0\n",
       "High         0\n",
       "Low          0\n",
       "Close        0\n",
       "Adj Close    0\n",
       "Volume       0\n",
       "dtype: int64"
      ]
     },
     "execution_count": 31,
     "metadata": {},
     "output_type": "execute_result"
    }
   ],
   "source": [
    "df.isnull().sum()"
   ]
  },
  {
   "cell_type": "code",
   "execution_count": 29,
   "id": "b5acfc00",
   "metadata": {},
   "outputs": [
    {
     "ename": "SyntaxError",
     "evalue": "invalid character in identifier (3428834736.py, line 2)",
     "output_type": "error",
     "traceback": [
      "\u001b[0;36m  File \u001b[0;32m\"/var/folders/9q/g7z0jmnx4q11sb59s6vvk1zw0000gn/T/ipykernel_36036/3428834736.py\"\u001b[0;36m, line \u001b[0;32m2\u001b[0m\n\u001b[0;31m    print(“Dataframe Shape: “, df.shape)\u001b[0m\n\u001b[0m                   ^\u001b[0m\n\u001b[0;31mSyntaxError\u001b[0m\u001b[0;31m:\u001b[0m invalid character in identifier\n"
     ]
    }
   ],
   "source": [
    "#Print the shape of Dataframe  and Check for Null Values\n",
    "print(“Dataframe Shape: “, df.shape)\n",
    "print(“Null Value Present: “, df.isnull().values.any())"
   ]
  },
  {
   "cell_type": "code",
   "execution_count": 49,
   "id": "8262ee7f",
   "metadata": {},
   "outputs": [
    {
     "data": {
      "text/plain": [
       "<Figure size 1440x720 with 0 Axes>"
      ]
     },
     "execution_count": 49,
     "metadata": {},
     "output_type": "execute_result"
    },
    {
     "data": {
      "text/plain": [
       "<Figure size 1440x720 with 0 Axes>"
      ]
     },
     "metadata": {},
     "output_type": "display_data"
    }
   ],
   "source": [
    "# Plot \"AdjClose\" and \"Date\" of ENPH\n",
    "plt.figure(figsize=(20, 10))"
   ]
  },
  {
   "cell_type": "code",
   "execution_count": 50,
   "id": "62ba757d",
   "metadata": {},
   "outputs": [
    {
     "data": {
      "text/plain": [
       "Text(0.5, 1.0, 'Adj Close Prices of ENPH')"
      ]
     },
     "execution_count": 50,
     "metadata": {},
     "output_type": "execute_result"
    },
    {
     "data": {
      "image/png": "[encoded data removed]",
      "text/plain": [
       "<Figure size 432x288 with 1 Axes>"
      ]
     },
     "metadata": {
      "needs_background": "light"
     },
     "output_type": "display_data"
    }
   ],
   "source": [
    "plt.subplot(2,1,1)\n",
    "plt.plot(df['Adj Close'],  label='Adj Close', color=\"orange\" )\n",
    "plt.legend(loc=\"upper right\")\n",
    "plt.title('Adj Close Prices of ENPH')"
   ]
  },
  {
   "cell_type": "markdown",
   "id": "b2798edd",
   "metadata": {},
   "source": [
    "# Setting the Target Variable and Selecting the Features"
   ]
  },
  {
   "cell_type": "code",
   "execution_count": 51,
   "id": "10e1e4f3",
   "metadata": {},
   "outputs": [
    {
     "name": "stdout",
     "output_type": "stream",
     "text": [
      "<class 'pandas.core.series.Series'>\n"
     ]
    }
   ],
   "source": [
    "#Set Target Variable\n",
    "y = df[\"Adj Close\"]\n",
    "print(type(y))"
   ]
  },
  {
   "cell_type": "code",
   "execution_count": 53,
   "id": "e43e6525",
   "metadata": {},
   "outputs": [
    {
     "name": "stdout",
     "output_type": "stream",
     "text": [
      "<class 'pandas.core.frame.DataFrame'>\n"
     ]
    }
   ],
   "source": [
    "y = pd.DataFrame(df[\"Adj Close\"])\n",
    "print(type(y))"
   ]
  },
  {
   "cell_type": "code",
   "execution_count": 55,
   "id": "05d45351",
   "metadata": {},
   "outputs": [
    {
     "name": "stdout",
     "output_type": "stream",
     "text": [
      "<class 'list'>\n"
     ]
    }
   ],
   "source": [
    "# X = df.drop(columns = \"Adj Close\")\n",
    "features = [\"Open\",\"High\",\"Low\",\"Volume\"]\n",
    "print(type(features))"
   ]
  },
  {
   "cell_type": "markdown",
   "id": "ed75d896",
   "metadata": {},
   "source": [
    "# Scaling"
   ]
  },
  {
   "cell_type": "code",
   "execution_count": 56,
   "id": "01803e08",
   "metadata": {},
   "outputs": [],
   "source": [
    "data_scaler = MinMaxScaler()"
   ]
  },
  {
   "cell_type": "code",
   "execution_count": 57,
   "id": "d7968de3",
   "metadata": {},
   "outputs": [],
   "source": [
    "feature_transform = data_scaler.fit_transform(df[features])"
   ]
  },
  {
   "cell_type": "code",
   "execution_count": 58,
   "id": "bc7cd8f2",
   "metadata": {},
   "outputs": [],
   "source": [
    "feature_transform= pd.DataFrame(columns=features, data=feature_transform, index=df.index)"
   ]
  },
  {
   "cell_type": "code",
   "execution_count": 59,
   "id": "a6502e8a",
   "metadata": {},
   "outputs": [
    {
     "data": {
      "text/html": [
       "<div>\n",
       "<style scoped>\n",
       "    .dataframe tbody tr th:only-of-type {\n",
       "        vertical-align: middle;\n",
       "    }\n",
       "\n",
       "    .dataframe tbody tr th {\n",
       "        vertical-align: top;\n",
       "    }\n",
       "\n",
       "    .dataframe thead th {\n",
       "        text-align: right;\n",
       "    }\n",
       "</style>\n",
       "<table border=\"1\" class=\"dataframe\">\n",
       "  <thead>\n",
       "    <tr style=\"text-align: right;\">\n",
       "      <th></th>\n",
       "      <th>Open</th>\n",
       "      <th>High</th>\n",
       "      <th>Low</th>\n",
       "      <th>Volume</th>\n",
       "    </tr>\n",
       "    <tr>\n",
       "      <th>Date</th>\n",
       "      <th></th>\n",
       "      <th></th>\n",
       "      <th></th>\n",
       "      <th></th>\n",
       "    </tr>\n",
       "  </thead>\n",
       "  <tbody>\n",
       "    <tr>\n",
       "      <th>2017-01-03</th>\n",
       "      <td>0.001192</td>\n",
       "      <td>0.001207</td>\n",
       "      <td>0.001385</td>\n",
       "      <td>0.006358</td>\n",
       "    </tr>\n",
       "    <tr>\n",
       "      <th>2017-01-04</th>\n",
       "      <td>0.001453</td>\n",
       "      <td>0.001562</td>\n",
       "      <td>0.001539</td>\n",
       "      <td>0.014658</td>\n",
       "    </tr>\n",
       "    <tr>\n",
       "      <th>2017-01-05</th>\n",
       "      <td>0.001825</td>\n",
       "      <td>0.001704</td>\n",
       "      <td>0.001770</td>\n",
       "      <td>0.003867</td>\n",
       "    </tr>\n",
       "    <tr>\n",
       "      <th>2017-01-06</th>\n",
       "      <td>0.001564</td>\n",
       "      <td>0.001526</td>\n",
       "      <td>0.001654</td>\n",
       "      <td>0.002978</td>\n",
       "    </tr>\n",
       "    <tr>\n",
       "      <th>2017-01-09</th>\n",
       "      <td>0.001490</td>\n",
       "      <td>0.001420</td>\n",
       "      <td>0.001654</td>\n",
       "      <td>0.001531</td>\n",
       "    </tr>\n",
       "  </tbody>\n",
       "</table>\n",
       "</div>"
      ],
      "text/plain": [
       "                Open      High       Low    Volume\n",
       "Date                                              \n",
       "2017-01-03  0.001192  0.001207  0.001385  0.006358\n",
       "2017-01-04  0.001453  0.001562  0.001539  0.014658\n",
       "2017-01-05  0.001825  0.001704  0.001770  0.003867\n",
       "2017-01-06  0.001564  0.001526  0.001654  0.002978\n",
       "2017-01-09  0.001490  0.001420  0.001654  0.001531"
      ]
     },
     "execution_count": 59,
     "metadata": {},
     "output_type": "execute_result"
    }
   ],
   "source": [
    "feature_transform.head()"
   ]
  },
  {
   "cell_type": "markdown",
   "id": "068e7ecc",
   "metadata": {},
   "source": [
    "# Creating a Training Set and a Test Set "
   ]
  },
  {
   "cell_type": "code",
   "execution_count": 76,
   "id": "125e32a7",
   "metadata": {},
   "outputs": [],
   "source": [
    "#Splitting to Training set and Test set\n",
    "timesplit= TimeSeriesSplit(n_splits=10)\n",
    "for train_index, test_index in timesplit.split(feature_transform):\n",
    "        X_train, X_test = feature_transform[:len(train_index)], feature_transform[len(train_index): (len(train_index)+len(test_index))]\n",
    "        y_train, y_test = y[:len(train_index)].values.ravel(), y[len(train_index): (len(train_index)+len(test_index))].values.ravel()"
   ]
  },
  {
   "cell_type": "code",
   "execution_count": 80,
   "id": "70c5df86",
   "metadata": {},
   "outputs": [
    {
     "name": "stdout",
     "output_type": "stream",
     "text": [
      "<class 'int'>\n",
      "1184\n"
     ]
    }
   ],
   "source": [
    "print(type(X_train.shape[0]))\n",
    "print(X_train.shape[0])"
   ]
  },
  {
   "cell_type": "code",
   "execution_count": 77,
   "id": "4bd3d1e4",
   "metadata": {},
   "outputs": [
    {
     "name": "stdout",
     "output_type": "stream",
     "text": [
      "<class 'pandas.core.frame.DataFrame'>\n"
     ]
    }
   ],
   "source": [
    "print(type(X_train))"
   ]
  },
  {
   "cell_type": "code",
   "execution_count": 81,
   "id": "0e0f8d78",
   "metadata": {},
   "outputs": [
    {
     "name": "stdout",
     "output_type": "stream",
     "text": [
      "                Open      High       Low    Volume\n",
      "Date                                              \n",
      "2017-01-03  0.001192  0.001207  0.001385  0.006358\n",
      "2017-01-04  0.001453  0.001562  0.001539  0.014658\n",
      "2017-01-05  0.001825  0.001704  0.001770  0.003867\n",
      "2017-01-06  0.001564  0.001526  0.001654  0.002978\n",
      "2017-01-09  0.001490  0.001420  0.001654  0.001531\n",
      "...              ...       ...       ...       ...\n",
      "2021-09-09  0.606236  0.580976  0.613742  0.035358\n",
      "2021-09-10  0.604857  0.582396  0.604624  0.035167\n",
      "2021-09-13  0.589622  0.568944  0.590621  0.033714\n",
      "2021-09-14  0.595098  0.574020  0.602239  0.026294\n",
      "2021-09-15  0.581725  0.557090  0.582695  0.041852\n",
      "\n",
      "[1184 rows x 4 columns]\n"
     ]
    }
   ],
   "source": [
    "print(X_train)"
   ]
  },
  {
   "cell_type": "code",
   "execution_count": 83,
   "id": "3abc84f9",
   "metadata": {},
   "outputs": [
    {
     "name": "stdout",
     "output_type": "stream",
     "text": [
      "<class 'int'>\n",
      "4\n"
     ]
    }
   ],
   "source": [
    "print(type(X_train.shape[1]))\n",
    "print(X_train.shape[1])"
   ]
  },
  {
   "cell_type": "code",
   "execution_count": 78,
   "id": "e03e7029",
   "metadata": {},
   "outputs": [
    {
     "name": "stdout",
     "output_type": "stream",
     "text": [
      "<class 'numpy.ndarray'>\n"
     ]
    }
   ],
   "source": [
    "print(type(y_train))"
   ]
  },
  {
   "cell_type": "markdown",
   "id": "7963915b",
   "metadata": {},
   "source": [
    "# Data Processing For LSTM"
   ]
  },
  {
   "cell_type": "code",
   "execution_count": 84,
   "id": "80f42917",
   "metadata": {},
   "outputs": [],
   "source": [
    "#Process the data for LSTM\n",
    "trainX =np.array(X_train)"
   ]
  },
  {
   "cell_type": "code",
   "execution_count": 85,
   "id": "da407f8f",
   "metadata": {},
   "outputs": [
    {
     "name": "stdout",
     "output_type": "stream",
     "text": [
      "[[0.00119198 0.00120674 0.00138499 0.00635835]\n",
      " [0.00145273 0.00156167 0.00153888 0.01465761]\n",
      " [0.00182523 0.00170364 0.00176971 0.0038673 ]\n",
      " ...\n",
      " [0.5896223  0.5689441  0.59062057 0.0337145 ]\n",
      " [0.59509798 0.57401955 0.6022391  0.026294  ]\n",
      " [0.58172537 0.55708963 0.58269537 0.04185216]]\n"
     ]
    }
   ],
   "source": [
    "print(trainX)"
   ]
  },
  {
   "cell_type": "code",
   "execution_count": 86,
   "id": "0d624aa3",
   "metadata": {},
   "outputs": [
    {
     "data": {
      "text/plain": [
       "(1184, 4)"
      ]
     },
     "execution_count": 86,
     "metadata": {},
     "output_type": "execute_result"
    }
   ],
   "source": [
    "trainX.shape"
   ]
  },
  {
   "cell_type": "code",
   "execution_count": 87,
   "id": "269fc358",
   "metadata": {},
   "outputs": [],
   "source": [
    "testX =np.array(X_test)\n",
    "X_train = trainX.reshape(X_train.shape[0], 1, X_train.shape[1])\n",
    "X_test = testX.reshape(X_test.shape[0], 1, X_test.shape[1])"
   ]
  },
  {
   "cell_type": "code",
   "execution_count": 88,
   "id": "2989645e",
   "metadata": {},
   "outputs": [
    {
     "name": "stdout",
     "output_type": "stream",
     "text": [
      "<class 'numpy.ndarray'>\n"
     ]
    }
   ],
   "source": [
    "print(type(X_train))"
   ]
  },
  {
   "cell_type": "markdown",
   "id": "086881e6",
   "metadata": {},
   "source": [
    "# Building the LSTM Model for Stock Market Prediction"
   ]
  },
  {
   "cell_type": "code",
   "execution_count": 92,
   "id": "d126188a",
   "metadata": {},
   "outputs": [
    {
     "name": "stdout",
     "output_type": "stream",
     "text": [
      "Collecting pydot\n",
      "  Using cached pydot-1.4.2-py2.py3-none-any.whl (21 kB)\n",
      "Requirement already satisfied: pyparsing>=2.1.4 in /Users/ruiminma/.pyenv/versions/anaconda3-2021.05/lib/python3.8/site-packages (from pydot) (2.4.7)\n",
      "Installing collected packages: pydot\n",
      "Successfully installed pydot-1.4.2\n"
     ]
    }
   ],
   "source": [
    "!pip install pydot"
   ]
  },
  {
   "cell_type": "code",
   "execution_count": 93,
   "id": "3f0b5280",
   "metadata": {},
   "outputs": [
    {
     "name": "stdout",
     "output_type": "stream",
     "text": [
      "Collecting graphviz\n",
      "  Downloading graphviz-0.19.1-py3-none-any.whl (46 kB)\n",
      "\u001b[K     |████████████████████████████████| 46 kB 2.4 MB/s eta 0:00:011\n",
      "\u001b[?25hInstalling collected packages: graphviz\n",
      "Successfully installed graphviz-0.19.1\n"
     ]
    }
   ],
   "source": [
    "!pip install graphviz"
   ]
  },
  {
   "cell_type": "code",
   "execution_count": 94,
   "id": "029597f0",
   "metadata": {},
   "outputs": [
    {
     "name": "stdout",
     "output_type": "stream",
     "text": [
      "You must install pydot (`pip install pydot`) and install graphviz (see instructions at https://graphviz.gitlab.io/download/) for plot_model/model_to_dot to work.\n"
     ]
    }
   ],
   "source": [
    "#Building the LSTM Model\n",
    "lstm = Sequential()\n",
    "lstm.add(LSTM(32, input_shape=(1, trainX.shape[1]), activation='relu', return_sequences=False))\n",
    "lstm.add(Dense(1))\n",
    "lstm.compile(loss='mean_squared_error', optimizer='adam')\n",
    "plot_model(lstm, show_shapes=True, show_layer_names=True)"
   ]
  },
  {
   "cell_type": "markdown",
   "id": "53a4e829",
   "metadata": {},
   "source": [
    "# Training the Stock Market Prediction Model"
   ]
  },
  {
   "cell_type": "code",
   "execution_count": 95,
   "id": "b9c53008",
   "metadata": {},
   "outputs": [
    {
     "name": "stdout",
     "output_type": "stream",
     "text": [
      "Epoch 1/100\n",
      "148/148 [==============================] - 1s 2ms/step - loss: 5481.1821\n",
      "Epoch 2/100\n",
      "148/148 [==============================] - 0s 2ms/step - loss: 5312.6787\n",
      "Epoch 3/100\n",
      "148/148 [==============================] - 0s 2ms/step - loss: 5077.7329\n",
      "Epoch 4/100\n",
      "148/148 [==============================] - 0s 2ms/step - loss: 4758.9863\n",
      "Epoch 5/100\n",
      "148/148 [==============================] - 0s 2ms/step - loss: 4364.5610\n",
      "Epoch 6/100\n",
      "148/148 [==============================] - 0s 2ms/step - loss: 3917.4421\n",
      "Epoch 7/100\n",
      "148/148 [==============================] - 0s 2ms/step - loss: 3447.7896\n",
      "Epoch 8/100\n",
      "148/148 [==============================] - 0s 2ms/step - loss: 2985.2505\n",
      "Epoch 9/100\n",
      "148/148 [==============================] - 0s 2ms/step - loss: 2553.8208\n",
      "Epoch 10/100\n",
      "148/148 [==============================] - 0s 2ms/step - loss: 2169.5278\n",
      "Epoch 11/100\n",
      "148/148 [==============================] - 0s 2ms/step - loss: 1840.2065\n",
      "Epoch 12/100\n",
      "148/148 [==============================] - 0s 2ms/step - loss: 1566.5995\n",
      "Epoch 13/100\n",
      "148/148 [==============================] - 0s 2ms/step - loss: 1344.1924\n",
      "Epoch 14/100\n",
      "148/148 [==============================] - 0s 2ms/step - loss: 1165.2992\n",
      "Epoch 15/100\n",
      "148/148 [==============================] - 0s 2ms/step - loss: 1021.0073\n",
      "Epoch 16/100\n",
      "148/148 [==============================] - 0s 2ms/step - loss: 902.7066\n",
      "Epoch 17/100\n",
      "148/148 [==============================] - 0s 2ms/step - loss: 803.0710\n",
      "Epoch 18/100\n",
      "148/148 [==============================] - 0s 2ms/step - loss: 716.4922\n",
      "Epoch 19/100\n",
      "148/148 [==============================] - 0s 2ms/step - loss: 639.0889\n",
      "Epoch 20/100\n",
      "148/148 [==============================] - 0s 1ms/step - loss: 568.4492\n",
      "Epoch 21/100\n",
      "148/148 [==============================] - 0s 2ms/step - loss: 503.2600\n",
      "Epoch 22/100\n",
      "148/148 [==============================] - 0s 2ms/step - loss: 443.0558\n",
      "Epoch 23/100\n",
      "148/148 [==============================] - 0s 2ms/step - loss: 387.1913\n",
      "Epoch 24/100\n",
      "148/148 [==============================] - 0s 2ms/step - loss: 335.7905\n",
      "Epoch 25/100\n",
      "148/148 [==============================] - 0s 2ms/step - loss: 287.8600\n",
      "Epoch 26/100\n",
      "148/148 [==============================] - 0s 2ms/step - loss: 242.9819\n",
      "Epoch 27/100\n",
      "148/148 [==============================] - 0s 2ms/step - loss: 201.8085\n",
      "Epoch 28/100\n",
      "148/148 [==============================] - 0s 2ms/step - loss: 165.2067\n",
      "Epoch 29/100\n",
      "148/148 [==============================] - 0s 2ms/step - loss: 133.5924\n",
      "Epoch 30/100\n",
      "148/148 [==============================] - 0s 2ms/step - loss: 107.0670\n",
      "Epoch 31/100\n",
      "148/148 [==============================] - 0s 2ms/step - loss: 85.4072\n",
      "Epoch 32/100\n",
      "148/148 [==============================] - 0s 1ms/step - loss: 68.1642\n",
      "Epoch 33/100\n",
      "148/148 [==============================] - 0s 2ms/step - loss: 54.7774\n",
      "Epoch 34/100\n",
      "148/148 [==============================] - 0s 2ms/step - loss: 44.6227\n",
      "Epoch 35/100\n",
      "148/148 [==============================] - 0s 2ms/step - loss: 37.0883\n",
      "Epoch 36/100\n",
      "148/148 [==============================] - 0s 1ms/step - loss: 31.5986\n",
      "Epoch 37/100\n",
      "148/148 [==============================] - 0s 2ms/step - loss: 27.6468\n",
      "Epoch 38/100\n",
      "148/148 [==============================] - 0s 2ms/step - loss: 24.8111\n",
      "Epoch 39/100\n",
      "148/148 [==============================] - 0s 1ms/step - loss: 22.7575\n",
      "Epoch 40/100\n",
      "148/148 [==============================] - 0s 1ms/step - loss: 21.2312\n",
      "Epoch 41/100\n",
      "148/148 [==============================] - 0s 1ms/step - loss: 20.0528\n",
      "Epoch 42/100\n",
      "148/148 [==============================] - 0s 1ms/step - loss: 19.0997\n",
      "Epoch 43/100\n",
      "148/148 [==============================] - 0s 1ms/step - loss: 18.2921\n",
      "Epoch 44/100\n",
      "148/148 [==============================] - 0s 1ms/step - loss: 17.5818\n",
      "Epoch 45/100\n",
      "148/148 [==============================] - 0s 2ms/step - loss: 16.9399\n",
      "Epoch 46/100\n",
      "148/148 [==============================] - 0s 1ms/step - loss: 16.3498\n",
      "Epoch 47/100\n",
      "148/148 [==============================] - 0s 2ms/step - loss: 15.8014\n",
      "Epoch 48/100\n",
      "148/148 [==============================] - 0s 2ms/step - loss: 15.2883\n",
      "Epoch 49/100\n",
      "148/148 [==============================] - 0s 2ms/step - loss: 14.8067\n",
      "Epoch 50/100\n",
      "148/148 [==============================] - 0s 2ms/step - loss: 14.3545\n",
      "Epoch 51/100\n",
      "148/148 [==============================] - 0s 2ms/step - loss: 13.9306\n",
      "Epoch 52/100\n",
      "148/148 [==============================] - 0s 2ms/step - loss: 13.5338\n",
      "Epoch 53/100\n",
      "148/148 [==============================] - 0s 2ms/step - loss: 13.1631\n",
      "Epoch 54/100\n",
      "148/148 [==============================] - 0s 1ms/step - loss: 12.8175\n",
      "Epoch 55/100\n",
      "148/148 [==============================] - 0s 2ms/step - loss: 12.4960\n",
      "Epoch 56/100\n",
      "148/148 [==============================] - 0s 2ms/step - loss: 12.1972\n",
      "Epoch 57/100\n",
      "148/148 [==============================] - 0s 2ms/step - loss: 11.9200\n",
      "Epoch 58/100\n",
      "148/148 [==============================] - 0s 2ms/step - loss: 11.6633\n",
      "Epoch 59/100\n",
      "148/148 [==============================] - 0s 2ms/step - loss: 11.4256\n",
      "Epoch 60/100\n",
      "148/148 [==============================] - 0s 2ms/step - loss: 11.2044\n",
      "Epoch 61/100\n",
      "148/148 [==============================] - 0s 2ms/step - loss: 10.9983\n",
      "Epoch 62/100\n",
      "148/148 [==============================] - 0s 1ms/step - loss: 10.8055\n",
      "Epoch 63/100\n",
      "148/148 [==============================] - 0s 1ms/step - loss: 10.6234\n",
      "Epoch 64/100\n",
      "148/148 [==============================] - 0s 2ms/step - loss: 10.4507\n",
      "Epoch 65/100\n",
      "148/148 [==============================] - 0s 2ms/step - loss: 10.2893\n",
      "Epoch 66/100\n",
      "148/148 [==============================] - 0s 1ms/step - loss: 10.1355\n",
      "Epoch 67/100\n",
      "148/148 [==============================] - 0s 2ms/step - loss: 9.9881\n",
      "Epoch 68/100\n",
      "148/148 [==============================] - 0s 2ms/step - loss: 9.8482\n",
      "Epoch 69/100\n",
      "148/148 [==============================] - 0s 2ms/step - loss: 9.7169\n",
      "Epoch 70/100\n",
      "148/148 [==============================] - 0s 2ms/step - loss: 9.5911\n",
      "Epoch 71/100\n",
      "148/148 [==============================] - 0s 2ms/step - loss: 9.4702\n",
      "Epoch 72/100\n",
      "148/148 [==============================] - 0s 2ms/step - loss: 9.3544\n",
      "Epoch 73/100\n",
      "148/148 [==============================] - 0s 1ms/step - loss: 9.2424\n",
      "Epoch 74/100\n",
      "148/148 [==============================] - 0s 1ms/step - loss: 9.1339\n",
      "Epoch 75/100\n",
      "148/148 [==============================] - 0s 2ms/step - loss: 9.0295\n",
      "Epoch 76/100\n",
      "148/148 [==============================] - 0s 1ms/step - loss: 8.9295\n",
      "Epoch 77/100\n",
      "148/148 [==============================] - 0s 2ms/step - loss: 8.8325\n",
      "Epoch 78/100\n",
      "148/148 [==============================] - 0s 2ms/step - loss: 8.7381\n",
      "Epoch 79/100\n",
      "148/148 [==============================] - 0s 2ms/step - loss: 8.6472\n",
      "Epoch 80/100\n",
      "148/148 [==============================] - 0s 2ms/step - loss: 8.5602\n",
      "Epoch 81/100\n",
      "148/148 [==============================] - 0s 1ms/step - loss: 8.4768\n",
      "Epoch 82/100\n",
      "148/148 [==============================] - 0s 2ms/step - loss: 8.3970\n",
      "Epoch 83/100\n",
      "148/148 [==============================] - 0s 2ms/step - loss: 8.3201\n",
      "Epoch 84/100\n",
      "148/148 [==============================] - 0s 2ms/step - loss: 8.2462\n",
      "Epoch 85/100\n",
      "148/148 [==============================] - 0s 1ms/step - loss: 8.1747\n",
      "Epoch 86/100\n",
      "148/148 [==============================] - 0s 1ms/step - loss: 8.1058\n",
      "Epoch 87/100\n",
      "148/148 [==============================] - 0s 2ms/step - loss: 8.0391\n",
      "Epoch 88/100\n",
      "148/148 [==============================] - 0s 2ms/step - loss: 7.9745\n",
      "Epoch 89/100\n",
      "148/148 [==============================] - 0s 2ms/step - loss: 7.9118\n",
      "Epoch 90/100\n",
      "148/148 [==============================] - 0s 2ms/step - loss: 7.8502\n",
      "Epoch 91/100\n",
      "148/148 [==============================] - 0s 2ms/step - loss: 7.7905\n",
      "Epoch 92/100\n",
      "148/148 [==============================] - 0s 1ms/step - loss: 7.7328\n",
      "Epoch 93/100\n",
      "148/148 [==============================] - 0s 2ms/step - loss: 7.6765\n",
      "Epoch 94/100\n",
      "148/148 [==============================] - 0s 2ms/step - loss: 7.6215\n",
      "Epoch 95/100\n",
      "148/148 [==============================] - 0s 1ms/step - loss: 7.5678\n",
      "Epoch 96/100\n",
      "148/148 [==============================] - 0s 1ms/step - loss: 7.5155\n",
      "Epoch 97/100\n",
      "148/148 [==============================] - 0s 2ms/step - loss: 7.4648\n",
      "Epoch 98/100\n"
     ]
    },
    {
     "name": "stdout",
     "output_type": "stream",
     "text": [
      "148/148 [==============================] - 0s 2ms/step - loss: 7.4150\n",
      "Epoch 99/100\n",
      "148/148 [==============================] - 0s 1ms/step - loss: 7.3662\n",
      "Epoch 100/100\n",
      "148/148 [==============================] - 0s 1ms/step - loss: 7.3185\n"
     ]
    }
   ],
   "source": [
    "#Model Training\n",
    "history=lstm.fit(X_train, y_train, epochs=100, batch_size=8, verbose=1, shuffle=False)"
   ]
  },
  {
   "cell_type": "markdown",
   "id": "5ec00124",
   "metadata": {},
   "source": [
    "# LSTM Prediction"
   ]
  },
  {
   "cell_type": "code",
   "execution_count": 96,
   "id": "ec55778e",
   "metadata": {},
   "outputs": [],
   "source": [
    "#LSTM Prediction\n",
    "y_pred = lstm.predict(X_test)"
   ]
  },
  {
   "cell_type": "code",
   "execution_count": 100,
   "id": "f887cf45",
   "metadata": {},
   "outputs": [
    {
     "data": {
      "text/plain": [
       "array([[155.02441 ],\n",
       "       [157.85966 ],\n",
       "       [154.3581  ],\n",
       "       [154.30098 ],\n",
       "       [155.06653 ],\n",
       "       [158.7485  ],\n",
       "       [155.84628 ],\n",
       "       [152.95241 ],\n",
       "       [152.3303  ],\n",
       "       [151.51585 ],\n",
       "       [150.88727 ],\n",
       "       [153.44797 ],\n",
       "       [151.40565 ],\n",
       "       [147.82872 ],\n",
       "       [148.9305  ],\n",
       "       [158.56822 ],\n",
       "       [157.31503 ],\n",
       "       [158.57591 ],\n",
       "       [165.17966 ],\n",
       "       [171.54828 ],\n",
       "       [172.85849 ],\n",
       "       [172.72762 ],\n",
       "       [173.25597 ],\n",
       "       [181.86153 ],\n",
       "       [181.26834 ],\n",
       "       [178.91281 ],\n",
       "       [177.19814 ],\n",
       "       [177.05055 ],\n",
       "       [176.96016 ],\n",
       "       [209.50655 ],\n",
       "       [212.15137 ],\n",
       "       [220.31425 ],\n",
       "       [224.56184 ],\n",
       "       [224.70808 ],\n",
       "       [224.1905  ],\n",
       "       [226.30376 ],\n",
       "       [228.49529 ],\n",
       "       [229.75487 ],\n",
       "       [228.01396 ],\n",
       "       [221.12798 ],\n",
       "       [229.15865 ],\n",
       "       [237.25197 ],\n",
       "       [235.83371 ],\n",
       "       [233.19623 ],\n",
       "       [239.57451 ],\n",
       "       [240.51079 ],\n",
       "       [245.07681 ],\n",
       "       [252.84435 ],\n",
       "       [241.33427 ],\n",
       "       [236.13753 ],\n",
       "       [236.70045 ],\n",
       "       [239.04805 ],\n",
       "       [238.0953  ],\n",
       "       [234.21535 ],\n",
       "       [226.05739 ],\n",
       "       [223.49481 ],\n",
       "       [207.29318 ],\n",
       "       [216.21944 ],\n",
       "       [215.45088 ],\n",
       "       [214.75262 ],\n",
       "       [211.66557 ],\n",
       "       [208.17918 ],\n",
       "       [197.53265 ],\n",
       "       [196.08598 ],\n",
       "       [198.64449 ],\n",
       "       [183.65782 ],\n",
       "       [178.73837 ],\n",
       "       [181.4702  ],\n",
       "       [184.8763  ],\n",
       "       [186.25996 ],\n",
       "       [185.4089  ],\n",
       "       [185.51462 ],\n",
       "       [182.39531 ],\n",
       "       [183.30042 ],\n",
       "       [183.20569 ],\n",
       "       [181.95253 ],\n",
       "       [180.12703 ],\n",
       "       [168.45343 ],\n",
       "       [153.76613 ],\n",
       "       [151.65211 ],\n",
       "       [143.59032 ],\n",
       "       [148.85353 ],\n",
       "       [151.63652 ],\n",
       "       [153.19847 ],\n",
       "       [143.8365  ],\n",
       "       [140.97255 ],\n",
       "       [139.0238  ],\n",
       "       [140.16185 ],\n",
       "       [132.33147 ],\n",
       "       [123.2552  ],\n",
       "       [125.8342  ],\n",
       "       [128.14703 ],\n",
       "       [125.710815],\n",
       "       [121.75511 ],\n",
       "       [132.51672 ],\n",
       "       [142.00612 ],\n",
       "       [144.3355  ],\n",
       "       [136.29149 ],\n",
       "       [137.96767 ],\n",
       "       [144.06508 ],\n",
       "       [142.68245 ],\n",
       "       [177.34325 ],\n",
       "       [159.84645 ],\n",
       "       [152.62915 ],\n",
       "       [147.31577 ],\n",
       "       [151.2205  ],\n",
       "       [151.2451  ],\n",
       "       [151.97426 ],\n",
       "       [146.8419  ],\n",
       "       [137.89677 ],\n",
       "       [133.9564  ],\n",
       "       [130.88004 ],\n",
       "       [150.75081 ],\n",
       "       [161.91632 ],\n",
       "       [167.80031 ],\n",
       "       [166.34807 ],\n",
       "       [162.56169 ],\n",
       "       [159.28728 ]], dtype=float32)"
      ]
     },
     "execution_count": 100,
     "metadata": {},
     "output_type": "execute_result"
    }
   ],
   "source": [
    "y_pred"
   ]
  },
  {
   "cell_type": "code",
   "execution_count": 101,
   "id": "3e2fdb9a",
   "metadata": {},
   "outputs": [
    {
     "data": {
      "text/plain": [
       "(118, 1)"
      ]
     },
     "execution_count": 101,
     "metadata": {},
     "output_type": "execute_result"
    }
   ],
   "source": [
    "y_pred.shape"
   ]
  },
  {
   "cell_type": "code",
   "execution_count": 99,
   "id": "fb5badad",
   "metadata": {},
   "outputs": [
    {
     "data": {
      "image/png": "[encoded data removed]",
      "text/plain": [
       "<Figure size 432x288 with 1 Axes>"
      ]
     },
     "metadata": {
      "needs_background": "light"
     },
     "output_type": "display_data"
    }
   ],
   "source": [
    "#Predicted vs True Adj Close Value – LSTM\n",
    "plt.plot(y_test, label='True Value')\n",
    "plt.plot(y_pred, label='LSTM Value')\n",
    "plt.title(\"Prediction by LSTM\")\n",
    "plt.xlabel('Time Scale')\n",
    "plt.ylabel('Scaled USD')\n",
    "plt.legend()\n",
    "plt.show()"
   ]
  },
  {
   "cell_type": "code",
   "execution_count": null,
   "id": "d97ce64a",
   "metadata": {},
   "outputs": [],
   "source": []
  }
 ],
 "metadata": {
  "kernelspec": {
   "display_name": "mlenv",
   "language": "python",
   "name": "mlenv"
  },
  "language_info": {
   "codemirror_mode": {
    "name": "ipython",
    "version": 3
   },
   "file_extension": ".py",
   "mimetype": "text/x-python",
   "name": "python",
   "nbconvert_exporter": "python",
   "pygments_lexer": "ipython3",
   "version": "3.7.11"
  }
 },
 "nbformat": 4,
 "nbformat_minor": 5
}
