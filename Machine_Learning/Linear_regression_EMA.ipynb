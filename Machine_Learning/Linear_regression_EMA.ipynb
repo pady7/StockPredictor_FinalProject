{
 "cells": [
  {
   "cell_type": "code",
   "execution_count": 1,
   "id": "f003dc08",
   "metadata": {},
   "outputs": [],
   "source": [
    "import pandas as pd"
   ]
  },
  {
   "cell_type": "code",
   "execution_count": 2,
   "id": "79eda385",
   "metadata": {},
   "outputs": [],
   "source": [
    "from pathlib import Path"
   ]
  },
  {
   "cell_type": "code",
   "execution_count": 3,
   "id": "76e76918",
   "metadata": {},
   "outputs": [],
   "source": [
    "import matplotlib.pyplot as plt\n"
   ]
  },
  {
   "cell_type": "code",
   "execution_count": 4,
   "id": "68d3adb7",
   "metadata": {},
   "outputs": [],
   "source": [
    "%matplotlib inline"
   ]
  },
  {
   "cell_type": "code",
   "execution_count": 5,
   "id": "66cb691b",
   "metadata": {},
   "outputs": [],
   "source": [
    "plt.style.use('fivethirtyeight')\n",
    "from matplotlib.pylab import rcParams\n",
    "rcParams['figure.figsize'] = 20,10"
   ]
  },
  {
   "cell_type": "code",
   "execution_count": 6,
   "id": "10d3f9ab",
   "metadata": {},
   "outputs": [],
   "source": [
    "import datetime as dt\n",
    "import numpy as np\n",
    "from pandas.plotting import scatter_matrix"
   ]
  },
  {
   "cell_type": "code",
   "execution_count": 7,
   "id": "2e4241ee",
   "metadata": {},
   "outputs": [],
   "source": [
    "import seaborn as sns"
   ]
  },
  {
   "cell_type": "code",
   "execution_count": 8,
   "id": "b1e10a88",
   "metadata": {},
   "outputs": [
    {
     "data": {
      "text/plain": [
       "Date         False\n",
       "Open         False\n",
       "High         False\n",
       "Low          False\n",
       "Close        False\n",
       "Adj Close    False\n",
       "Volume       False\n",
       "dtype: bool"
      ]
     },
     "execution_count": 8,
     "metadata": {},
     "output_type": "execute_result"
    }
   ],
   "source": [
    "#load .csv file as DataFrame\n",
    "df = pd.read_csv(Path('../Machine_Learning/ENPH_Price.csv'))\n",
    "df.head()\n",
    "#check the null value in the column\n",
    "df.isnull().any()"
   ]
  },
  {
   "cell_type": "code",
   "execution_count": 9,
   "id": "b8e22573",
   "metadata": {},
   "outputs": [
    {
     "data": {
      "text/html": [
       "<div>\n",
       "<style scoped>\n",
       "    .dataframe tbody tr th:only-of-type {\n",
       "        vertical-align: middle;\n",
       "    }\n",
       "\n",
       "    .dataframe tbody tr th {\n",
       "        vertical-align: top;\n",
       "    }\n",
       "\n",
       "    .dataframe thead th {\n",
       "        text-align: right;\n",
       "    }\n",
       "</style>\n",
       "<table border=\"1\" class=\"dataframe\">\n",
       "  <thead>\n",
       "    <tr style=\"text-align: right;\">\n",
       "      <th></th>\n",
       "      <th>Date</th>\n",
       "      <th>Open</th>\n",
       "      <th>High</th>\n",
       "      <th>Low</th>\n",
       "      <th>Close</th>\n",
       "      <th>Adj Close</th>\n",
       "      <th>Volume</th>\n",
       "    </tr>\n",
       "  </thead>\n",
       "  <tbody>\n",
       "    <tr>\n",
       "      <th>0</th>\n",
       "      <td>2017-01-03</td>\n",
       "      <td>1.020000</td>\n",
       "      <td>1.050000</td>\n",
       "      <td>1.010000</td>\n",
       "      <td>1.050000</td>\n",
       "      <td>1.050000</td>\n",
       "      <td>445900</td>\n",
       "    </tr>\n",
       "    <tr>\n",
       "      <th>1</th>\n",
       "      <td>2017-01-04</td>\n",
       "      <td>1.090000</td>\n",
       "      <td>1.150000</td>\n",
       "      <td>1.050000</td>\n",
       "      <td>1.150000</td>\n",
       "      <td>1.150000</td>\n",
       "      <td>903000</td>\n",
       "    </tr>\n",
       "    <tr>\n",
       "      <th>2</th>\n",
       "      <td>2017-01-05</td>\n",
       "      <td>1.190000</td>\n",
       "      <td>1.190000</td>\n",
       "      <td>1.110000</td>\n",
       "      <td>1.120000</td>\n",
       "      <td>1.120000</td>\n",
       "      <td>308700</td>\n",
       "    </tr>\n",
       "    <tr>\n",
       "      <th>3</th>\n",
       "      <td>2017-01-06</td>\n",
       "      <td>1.120000</td>\n",
       "      <td>1.140000</td>\n",
       "      <td>1.080000</td>\n",
       "      <td>1.110000</td>\n",
       "      <td>1.110000</td>\n",
       "      <td>259700</td>\n",
       "    </tr>\n",
       "    <tr>\n",
       "      <th>4</th>\n",
       "      <td>2017-01-09</td>\n",
       "      <td>1.100000</td>\n",
       "      <td>1.110000</td>\n",
       "      <td>1.080000</td>\n",
       "      <td>1.110000</td>\n",
       "      <td>1.110000</td>\n",
       "      <td>180000</td>\n",
       "    </tr>\n",
       "    <tr>\n",
       "      <th>...</th>\n",
       "      <td>...</td>\n",
       "      <td>...</td>\n",
       "      <td>...</td>\n",
       "      <td>...</td>\n",
       "      <td>...</td>\n",
       "      <td>...</td>\n",
       "      <td>...</td>\n",
       "    </tr>\n",
       "    <tr>\n",
       "      <th>1297</th>\n",
       "      <td>2022-02-28</td>\n",
       "      <td>157.399994</td>\n",
       "      <td>167.949997</td>\n",
       "      <td>157.399994</td>\n",
       "      <td>166.699997</td>\n",
       "      <td>166.699997</td>\n",
       "      <td>5368900</td>\n",
       "    </tr>\n",
       "    <tr>\n",
       "      <th>1298</th>\n",
       "      <td>2022-03-01</td>\n",
       "      <td>167.539993</td>\n",
       "      <td>172.869995</td>\n",
       "      <td>163.520004</td>\n",
       "      <td>170.600006</td>\n",
       "      <td>170.600006</td>\n",
       "      <td>3539800</td>\n",
       "    </tr>\n",
       "    <tr>\n",
       "      <th>1299</th>\n",
       "      <td>2022-03-02</td>\n",
       "      <td>169.880005</td>\n",
       "      <td>169.880005</td>\n",
       "      <td>159.529999</td>\n",
       "      <td>163.889999</td>\n",
       "      <td>163.889999</td>\n",
       "      <td>3473300</td>\n",
       "    </tr>\n",
       "    <tr>\n",
       "      <th>1300</th>\n",
       "      <td>2022-03-03</td>\n",
       "      <td>164.860001</td>\n",
       "      <td>165.729996</td>\n",
       "      <td>157.210007</td>\n",
       "      <td>159.029999</td>\n",
       "      <td>159.029999</td>\n",
       "      <td>2329200</td>\n",
       "    </tr>\n",
       "    <tr>\n",
       "      <th>1301</th>\n",
       "      <td>2022-03-04</td>\n",
       "      <td>159.820007</td>\n",
       "      <td>164.250000</td>\n",
       "      <td>152.949997</td>\n",
       "      <td>158.149994</td>\n",
       "      <td>158.149994</td>\n",
       "      <td>2512400</td>\n",
       "    </tr>\n",
       "  </tbody>\n",
       "</table>\n",
       "<p>1302 rows × 7 columns</p>\n",
       "</div>"
      ],
      "text/plain": [
       "            Date        Open        High         Low       Close   Adj Close  \\\n",
       "0     2017-01-03    1.020000    1.050000    1.010000    1.050000    1.050000   \n",
       "1     2017-01-04    1.090000    1.150000    1.050000    1.150000    1.150000   \n",
       "2     2017-01-05    1.190000    1.190000    1.110000    1.120000    1.120000   \n",
       "3     2017-01-06    1.120000    1.140000    1.080000    1.110000    1.110000   \n",
       "4     2017-01-09    1.100000    1.110000    1.080000    1.110000    1.110000   \n",
       "...          ...         ...         ...         ...         ...         ...   \n",
       "1297  2022-02-28  157.399994  167.949997  157.399994  166.699997  166.699997   \n",
       "1298  2022-03-01  167.539993  172.869995  163.520004  170.600006  170.600006   \n",
       "1299  2022-03-02  169.880005  169.880005  159.529999  163.889999  163.889999   \n",
       "1300  2022-03-03  164.860001  165.729996  157.210007  159.029999  159.029999   \n",
       "1301  2022-03-04  159.820007  164.250000  152.949997  158.149994  158.149994   \n",
       "\n",
       "       Volume  \n",
       "0      445900  \n",
       "1      903000  \n",
       "2      308700  \n",
       "3      259700  \n",
       "4      180000  \n",
       "...       ...  \n",
       "1297  5368900  \n",
       "1298  3539800  \n",
       "1299  3473300  \n",
       "1300  2329200  \n",
       "1301  2512400  \n",
       "\n",
       "[1302 rows x 7 columns]"
      ]
     },
     "execution_count": 9,
     "metadata": {},
     "output_type": "execute_result"
    }
   ],
   "source": [
    "df"
   ]
  },
  {
   "cell_type": "code",
   "execution_count": 10,
   "id": "10a57f97",
   "metadata": {},
   "outputs": [
    {
     "name": "stdout",
     "output_type": "stream",
     "text": [
      "              Open         High          Low        Close    Adj Close  \\\n",
      "count  1302.000000  1302.000000  1302.000000  1302.000000  1302.000000   \n",
      "mean     57.269339    58.975983    55.475346    57.214324    57.214324   \n",
      "std      70.819424    72.705733    68.674717    70.601305    70.601305   \n",
      "min       0.700000     0.710000     0.650000     0.700000     0.700000   \n",
      "25%       4.360000     4.502500     4.195000     4.360000     4.360000   \n",
      "50%      19.770000    20.275000    19.235000    19.665000    19.665000   \n",
      "75%     119.007502   122.122501   114.515001   119.439999   119.439999   \n",
      "max     269.160004   282.459991   260.579987   267.739990   267.739990   \n",
      "\n",
      "             Volume  \n",
      "count  1.302000e+03  \n",
      "mean   3.092445e+06  \n",
      "std    3.325321e+06  \n",
      "min    9.570000e+04  \n",
      "25%    1.312050e+06  \n",
      "50%    2.433550e+06  \n",
      "75%    3.822625e+06  \n",
      "max    5.517290e+07  \n"
     ]
    }
   ],
   "source": [
    "print(df.describe())"
   ]
  },
  {
   "cell_type": "code",
   "execution_count": 11,
   "id": "c0364501",
   "metadata": {},
   "outputs": [],
   "source": [
    "# Reindex data using a DatetimeIndex\n",
    "df.set_index(pd.DatetimeIndex(df['Date']), inplace=True)"
   ]
  },
  {
   "cell_type": "code",
   "execution_count": 12,
   "id": "c9d5751e",
   "metadata": {},
   "outputs": [],
   "source": [
    "df = df[['Adj Close']]"
   ]
  },
  {
   "cell_type": "code",
   "execution_count": 13,
   "id": "b288632c",
   "metadata": {},
   "outputs": [
    {
     "name": "stdout",
     "output_type": "stream",
     "text": [
      "             Adj Close\n",
      "Date                  \n",
      "2017-01-03    1.050000\n",
      "2017-01-04    1.150000\n",
      "2017-01-05    1.120000\n",
      "2017-01-06    1.110000\n",
      "2017-01-09    1.110000\n",
      "...                ...\n",
      "2022-02-28  166.699997\n",
      "2022-03-01  170.600006\n",
      "2022-03-02  163.889999\n",
      "2022-03-03  159.029999\n",
      "2022-03-04  158.149994\n",
      "\n",
      "[1302 rows x 1 columns]\n"
     ]
    }
   ],
   "source": [
    "# Re-inspect data\n",
    "print(df)"
   ]
  },
  {
   "cell_type": "code",
   "execution_count": 14,
   "id": "8141e80d",
   "metadata": {},
   "outputs": [
    {
     "data": {
      "text/plain": [
       "<Figure size 1440x720 with 0 Axes>"
      ]
     },
     "execution_count": 14,
     "metadata": {},
     "output_type": "execute_result"
    },
    {
     "data": {
      "text/plain": [
       "<Figure size 1440x720 with 0 Axes>"
      ]
     },
     "metadata": {},
     "output_type": "display_data"
    }
   ],
   "source": [
    "plt.figure(figsize=(20, 10))"
   ]
  },
  {
   "cell_type": "code",
   "execution_count": 15,
   "id": "b4db1679",
   "metadata": {},
   "outputs": [
    {
     "data": {
      "text/plain": [
       "Text(0.5, 1.0, 'Adj Close Prices of ENPH')"
      ]
     },
     "execution_count": 15,
     "metadata": {},
     "output_type": "execute_result"
    },
    {
     "data": {
      "image/png": "[encoded data removed]",
      "text/plain": [
       "<Figure size 1440x720 with 1 Axes>"
      ]
     },
     "metadata": {},
     "output_type": "display_data"
    }
   ],
   "source": [
    "plt.subplot(2,1,1)\n",
    "plt.plot(df.index.values, df['Adj Close'],  label='Adj Close', color=\"orange\" )\n",
    "plt.legend(loc=\"upper right\")\n",
    "plt.title('Adj Close Prices of ENPH')"
   ]
  },
  {
   "cell_type": "code",
   "execution_count": 16,
   "id": "cee41569",
   "metadata": {},
   "outputs": [
    {
     "name": "stdout",
     "output_type": "stream",
     "text": [
      "Requirement already satisfied: pandas_ta in /Users/ruiminma/.pyenv/versions/anaconda3-2021.05/lib/python3.8/site-packages (0.3.14b0)\n",
      "Requirement already satisfied: pandas in /Users/ruiminma/.pyenv/versions/anaconda3-2021.05/lib/python3.8/site-packages (from pandas_ta) (1.2.4)\n",
      "Requirement already satisfied: python-dateutil>=2.7.3 in /Users/ruiminma/.pyenv/versions/anaconda3-2021.05/lib/python3.8/site-packages (from pandas->pandas_ta) (2.8.1)\n",
      "Requirement already satisfied: pytz>=2017.3 in /Users/ruiminma/.pyenv/versions/anaconda3-2021.05/lib/python3.8/site-packages (from pandas->pandas_ta) (2021.1)\n",
      "Requirement already satisfied: numpy>=1.16.5 in /Users/ruiminma/.pyenv/versions/anaconda3-2021.05/lib/python3.8/site-packages (from pandas->pandas_ta) (1.20.1)\n",
      "Requirement already satisfied: six>=1.5 in /Users/ruiminma/.pyenv/versions/anaconda3-2021.05/lib/python3.8/site-packages (from python-dateutil>=2.7.3->pandas->pandas_ta) (1.15.0)\n"
     ]
    }
   ],
   "source": [
    "!pip install pandas_ta"
   ]
  },
  {
   "cell_type": "code",
   "execution_count": null,
   "id": "ffcbaca8",
   "metadata": {},
   "outputs": [],
   "source": [
    "Jupyter Notebook 6.4.5 and Python 3.8.8."
   ]
  },
  {
   "cell_type": "code",
   "execution_count": null,
   "id": "bfd16e8b",
   "metadata": {},
   "outputs": [],
   "source": [
    "!python --version"
   ]
  },
  {
   "cell_type": "code",
   "execution_count": null,
   "id": "22d9a209",
   "metadata": {},
   "outputs": [],
   "source": [
    "!jupyter notebook --version"
   ]
  },
  {
   "cell_type": "code",
   "execution_count": 18,
   "id": "b965dd9c",
   "metadata": {},
   "outputs": [
    {
     "name": "stdout",
     "output_type": "stream",
     "text": [
      "Collecting pandas-ta\n",
      "  Using cached pandas_ta-0.3.14b.tar.gz (115 kB)\n",
      "Requirement already satisfied: pandas in /Users/ruiminma/opt/anaconda3/envs/mlenv/lib/python3.7/site-packages (from pandas-ta) (1.3.4)\n",
      "Requirement already satisfied: python-dateutil>=2.7.3 in /Users/ruiminma/opt/anaconda3/envs/mlenv/lib/python3.7/site-packages (from pandas->pandas-ta) (2.8.2)\n",
      "Requirement already satisfied: pytz>=2017.3 in /Users/ruiminma/opt/anaconda3/envs/mlenv/lib/python3.7/site-packages (from pandas->pandas-ta) (2021.3)\n",
      "Requirement already satisfied: numpy>=1.17.3 in /Users/ruiminma/.local/lib/python3.7/site-packages (from pandas->pandas-ta) (1.21.5)\n",
      "Requirement already satisfied: six>=1.5 in /Users/ruiminma/.local/lib/python3.7/site-packages (from python-dateutil>=2.7.3->pandas->pandas-ta) (1.16.0)\n",
      "Building wheels for collected packages: pandas-ta\n",
      "  Building wheel for pandas-ta (setup.py) ... \u001b[?25ldone\n",
      "\u001b[?25h  Created wheel for pandas-ta: filename=pandas_ta-0.3.14b0-py3-none-any.whl size=218922 sha256=8d47cfc0031cc3350fa5517040c40b4efb74cf88275a18204a02b775ba361f0b\n",
      "  Stored in directory: /Users/ruiminma/Library/Caches/pip/wheels/0b/81/f0/cca85757840e4616a2c6b9fe12569d97d324c27cac60724c58\n",
      "Successfully built pandas-ta\n",
      "Installing collected packages: pandas-ta\n",
      "Successfully installed pandas-ta-0.3.14b0\n",
      "Note: you may need to restart the kernel to use updated packages.\n"
     ]
    }
   ],
   "source": [
    "pip install pandas-ta"
   ]
  },
  {
   "cell_type": "code",
   "execution_count": 19,
   "id": "d6a366e9",
   "metadata": {},
   "outputs": [
    {
     "name": "stderr",
     "output_type": "stream",
     "text": [
      "/Users/ruiminma/.local/lib/python3.7/site-packages/pkg_resources/__init__.py:125: PkgResourcesDeprecationWarning: 4.0.0-unsupported is an invalid version and will not be supported in a future release\n",
      "  PkgResourcesDeprecationWarning,\n"
     ]
    }
   ],
   "source": [
    "import pandas_ta"
   ]
  },
  {
   "cell_type": "code",
   "execution_count": 20,
   "id": "1633dd0a",
   "metadata": {},
   "outputs": [
    {
     "name": "stderr",
     "output_type": "stream",
     "text": [
      "/Users/ruiminma/opt/anaconda3/envs/mlenv/lib/python3.7/site-packages/pandas_ta/core.py:426: SettingWithCopyWarning: \n",
      "A value is trying to be set on a copy of a slice from a DataFrame.\n",
      "Try using .loc[row_indexer,col_indexer] = value instead\n",
      "\n",
      "See the caveats in the documentation: https://pandas.pydata.org/pandas-docs/stable/user_guide/indexing.html#returning-a-view-versus-a-copy\n",
      "  df[ind_name] = result\n"
     ]
    },
    {
     "data": {
      "text/plain": [
       "Date\n",
       "2017-01-03           NaN\n",
       "2017-01-04           NaN\n",
       "2017-01-05           NaN\n",
       "2017-01-06           NaN\n",
       "2017-01-09           NaN\n",
       "                 ...    \n",
       "2022-02-28    148.279012\n",
       "2022-03-01    152.337374\n",
       "2022-03-02    154.437852\n",
       "2022-03-03    155.272787\n",
       "2022-03-04    155.795916\n",
       "Name: EMA_10, Length: 1302, dtype: float64"
      ]
     },
     "execution_count": 20,
     "metadata": {},
     "output_type": "execute_result"
    }
   ],
   "source": [
    "df.ta.ema(close='Adj Close', length=10, append=True)"
   ]
  },
  {
   "cell_type": "code",
   "execution_count": 21,
   "id": "b9e53cdf",
   "metadata": {},
   "outputs": [
    {
     "name": "stdout",
     "output_type": "stream",
     "text": [
      "            Adj Close  EMA_10\n",
      "Date                         \n",
      "2017-01-03       1.05     NaN\n",
      "2017-01-04       1.15     NaN\n",
      "2017-01-05       1.12     NaN\n",
      "2017-01-06       1.11     NaN\n",
      "2017-01-09       1.11     NaN\n",
      "2017-01-10       1.13     NaN\n",
      "2017-01-11       1.44     NaN\n",
      "2017-01-12       1.36     NaN\n",
      "2017-01-13       1.54     NaN\n",
      "2017-01-17       1.65   1.266\n"
     ]
    }
   ],
   "source": [
    "# Print the first 10 entries of our data\n",
    "print(df.head(10))"
   ]
  },
  {
   "cell_type": "code",
   "execution_count": 22,
   "id": "f0be8886",
   "metadata": {},
   "outputs": [],
   "source": [
    "# Drop the first n-rows\n",
    "df = df.iloc[10:]"
   ]
  },
  {
   "cell_type": "code",
   "execution_count": 23,
   "id": "5f0f25d7",
   "metadata": {},
   "outputs": [
    {
     "name": "stdout",
     "output_type": "stream",
     "text": [
      "            Adj Close    EMA_10\n",
      "Date                           \n",
      "2017-01-18       1.89  1.379455\n",
      "2017-01-19       1.78  1.452281\n",
      "2017-01-20       1.85  1.524594\n",
      "2017-01-23       1.70  1.556486\n",
      "2017-01-24       1.66  1.575306\n",
      "2017-01-25       1.71  1.599796\n",
      "2017-01-26       1.64  1.607106\n",
      "2017-01-27       1.60  1.605814\n",
      "2017-01-30       1.49  1.584757\n",
      "2017-01-31       1.49  1.567528\n"
     ]
    }
   ],
   "source": [
    "print(df.head(10))"
   ]
  },
  {
   "cell_type": "code",
   "execution_count": 24,
   "id": "2f86d8fa",
   "metadata": {},
   "outputs": [
    {
     "data": {
      "text/plain": [
       "<Figure size 1440x720 with 0 Axes>"
      ]
     },
     "execution_count": 24,
     "metadata": {},
     "output_type": "execute_result"
    },
    {
     "data": {
      "text/plain": [
       "<Figure size 1440x720 with 0 Axes>"
      ]
     },
     "metadata": {},
     "output_type": "display_data"
    }
   ],
   "source": [
    "plt.figure(figsize=(20, 10))"
   ]
  },
  {
   "cell_type": "code",
   "execution_count": 26,
   "id": "94b5f467",
   "metadata": {},
   "outputs": [
    {
     "data": {
      "text/plain": [
       "Text(0.5, 1.0, 'Adj Close Prices of ENPH')"
      ]
     },
     "execution_count": 26,
     "metadata": {},
     "output_type": "execute_result"
    },
    {
     "data": {
      "image/png": "[encoded data removed]",
      "text/plain": [
       "<Figure size 1440x720 with 1 Axes>"
      ]
     },
     "metadata": {},
     "output_type": "display_data"
    }
   ],
   "source": [
    "plt.subplot(2,1,1)\n",
    "plt.plot(df.index.values, df['Adj Close'], label='Adj Close', color=\"orange\" )\n",
    "plt.legend(loc=\"upper right\")\n",
    "plt.title('Adj Close Prices of ENPH')"
   ]
  },
  {
   "cell_type": "code",
   "execution_count": 27,
   "id": "50825f74",
   "metadata": {},
   "outputs": [],
   "source": [
    "import numpy as np\n",
    "import matplotlib.pyplot as plt"
   ]
  },
  {
   "cell_type": "code",
   "execution_count": 77,
   "id": "8db0c845",
   "metadata": {},
   "outputs": [
    {
     "data": {
      "image/png": "[encoded data removed]",
      "text/plain": [
       "<Figure size 1440x720 with 2 Axes>"
      ]
     },
     "metadata": {},
     "output_type": "display_data"
    }
   ],
   "source": [
    "# Create adj & EMA data\n",
    "data1 = df['Adj Close']\n",
    "data2 = df['EMA_10']\n",
    "\n",
    "fig, ax1 = plt.subplots()\n",
    "\n",
    "color = 'tab:red'\n",
    "ax1.set_xlabel('Date')\n",
    "ax1.set_ylabel('Adj Close', color=color)\n",
    "ax1.plot(df.index.values, data1, color=color)\n",
    "ax1.tick_params(axis='y', labelcolor=color)\n",
    "\n",
    "ax2 = ax1.twinx()  # instantiate a second axes that shares the same x-axis\n",
    "\n",
    "color = 'tab:blue'\n",
    "ax2.set_ylabel('EMA_10', color=color)  # we already handled the x-label with ax1\n",
    "ax2.plot(df.index.values, data2, color=color)\n",
    "ax2.tick_params(axis='y', labelcolor=color)\n",
    "\n",
    "fig.tight_layout()  # otherwise the right y-label is slightly clipped\n",
    "plt.show()"
   ]
  },
  {
   "cell_type": "code",
   "execution_count": 31,
   "id": "21d2ffe3",
   "metadata": {},
   "outputs": [],
   "source": [
    "from sklearn.model_selection import train_test_split\n",
    "from sklearn.preprocessing import StandardScaler\n",
    "from sklearn.linear_model import LinearRegression\n",
    "from sklearn.metrics import accuracy_score\n",
    "from sklearn import metrics"
   ]
  },
  {
   "cell_type": "code",
   "execution_count": 32,
   "id": "f8cd0b81",
   "metadata": {},
   "outputs": [],
   "source": [
    "# Split data into testing and training sets\n",
    "X_train, X_test, y_train, y_test = train_test_split(df[['Adj Close']], df[['EMA_10']], test_size=.2)"
   ]
  },
  {
   "cell_type": "code",
   "execution_count": 33,
   "id": "ee391d55",
   "metadata": {},
   "outputs": [
    {
     "name": "stdout",
     "output_type": "stream",
     "text": [
      "        Adj Close\n",
      "count  259.000000\n",
      "mean    53.346641\n",
      "std     68.489003\n",
      "min      0.770000\n",
      "25%      4.465000\n",
      "50%     15.970000\n",
      "75%    105.845001\n",
      "max    242.600006\n"
     ]
    }
   ],
   "source": [
    "print(X_test.describe())"
   ]
  },
  {
   "cell_type": "code",
   "execution_count": 34,
   "id": "5ab121e2",
   "metadata": {},
   "outputs": [
    {
     "name": "stdout",
     "output_type": "stream",
     "text": [
      "         Adj Close\n",
      "count  1033.000000\n",
      "mean     58.725663\n",
      "std      71.237292\n",
      "min       0.700000\n",
      "25%       4.400000\n",
      "50%      22.200001\n",
      "75%     122.510002\n",
      "max     267.739990\n"
     ]
    }
   ],
   "source": [
    "print(X_train.describe())"
   ]
  },
  {
   "cell_type": "code",
   "execution_count": 35,
   "id": "461f0d32",
   "metadata": {},
   "outputs": [],
   "source": [
    "from sklearn.linear_model import LinearRegression\n",
    "# Create Regression Model\n",
    "model = LinearRegression()\n",
    "# Train the model\n",
    "model.fit(X_train, y_train)\n",
    "# Use model to make predictions\n",
    "y_pred = model.predict(X_test)"
   ]
  },
  {
   "cell_type": "code",
   "execution_count": 39,
   "id": "52b90376",
   "metadata": {},
   "outputs": [
    {
     "data": {
      "text/plain": [
       "array([[  0.8592189 ],\n",
       "       [  0.8592189 ],\n",
       "       [ 23.52442267],\n",
       "       [ 23.21706525],\n",
       "       [  5.69763511],\n",
       "       [  5.86618649],\n",
       "       [  0.8592189 ],\n",
       "       [179.97976227],\n",
       "       [239.60729209],\n",
       "       [  0.8592189 ],\n",
       "       [  4.50786063],\n",
       "       [ 66.77272784],\n",
       "       [184.18363705],\n",
       "       [ 31.27778634],\n",
       "       [  4.83504861],\n",
       "       [159.55530936],\n",
       "       [194.7131362 ],\n",
       "       [  1.28555476],\n",
       "       [  1.32521391],\n",
       "       [  6.1735449 ],\n",
       "       [ 50.51247568],\n",
       "       [  4.26990573],\n",
       "       [  6.70894341],\n",
       "       [ 17.22853273],\n",
       "       [233.04370786],\n",
       "       [  5.65797596],\n",
       "       [ 29.78065345],\n",
       "       [  2.79260243],\n",
       "       [ 97.8357505 ],\n",
       "       [ 23.12783217],\n",
       "       [  5.1523218 ],\n",
       "       [  4.72598595],\n",
       "       [211.74674871],\n",
       "       [  4.50786063],\n",
       "       [ 45.14857575],\n",
       "       [  4.16084307],\n",
       "       [ 24.36718058],\n",
       "       [ 14.50196623],\n",
       "       [  6.96672788],\n",
       "       [  6.60979554],\n",
       "       [  5.30104361],\n",
       "       [  5.80669777],\n",
       "       [143.88003263],\n",
       "       [  0.83938933],\n",
       "       [ 15.13651261],\n",
       "       [161.96459573],\n",
       "       [  4.40871276],\n",
       "       [  1.46402093],\n",
       "       [ 72.26551306],\n",
       "       [ 20.67887772],\n",
       "       [  5.44976542],\n",
       "       [154.68714483],\n",
       "       [229.55369877],\n",
       "       [  3.32800094],\n",
       "       [168.83555027],\n",
       "       [192.32366949],\n",
       "       [ 47.21084952],\n",
       "       [  5.30104361],\n",
       "       [  0.86913369],\n",
       "       [  1.67223146],\n",
       "       [ 15.88012166],\n",
       "       [ 19.00328065],\n",
       "       [145.92247683],\n",
       "       [ 21.57120858],\n",
       "       [119.28144038],\n",
       "       [ 17.40699891],\n",
       "       [ 20.66896293],\n",
       "       [ 31.9420751 ],\n",
       "       [  7.21459756],\n",
       "       [234.61024624],\n",
       "       [124.99235291],\n",
       "       [  0.94845199],\n",
       "       [  0.80964497],\n",
       "       [148.19295618],\n",
       "       [ 21.06555641],\n",
       "       [104.64721234],\n",
       "       [113.75890386],\n",
       "       [  6.14380053],\n",
       "       [ 59.21765694],\n",
       "       [  4.93419648],\n",
       "       [129.39452838],\n",
       "       [  0.84930412],\n",
       "       [  2.83226158],\n",
       "       [ 10.3873295 ],\n",
       "       [  1.69206104],\n",
       "       [187.24730335],\n",
       "       [  0.82947454],\n",
       "       [ 33.80605611],\n",
       "       [  1.50368008],\n",
       "       [  6.7188582 ],\n",
       "       [126.88608026],\n",
       "       [  1.53342444],\n",
       "       [  6.58005118],\n",
       "       [  2.09856732],\n",
       "       [  4.64666765],\n",
       "       [  2.30677785],\n",
       "       [  4.43845712],\n",
       "       [133.03325334],\n",
       "       [  5.62823159],\n",
       "       [ 10.19894854],\n",
       "       [ 35.86833385],\n",
       "       [130.13813743],\n",
       "       [  2.57447711],\n",
       "       [183.93576736],\n",
       "       [240.57895216],\n",
       "       [  2.45549966],\n",
       "       [  1.39461742],\n",
       "       [170.81850773],\n",
       "       [  5.05317393],\n",
       "       [185.78982763],\n",
       "       [ 13.94673814],\n",
       "       [ 15.27531964],\n",
       "       [ 88.79346944],\n",
       "       [  8.03752491],\n",
       "       [  6.60979554],\n",
       "       [ 52.49543314],\n",
       "       [  1.40453221],\n",
       "       [  1.37478784],\n",
       "       [ 21.51172085],\n",
       "       [  5.94550479],\n",
       "       [  0.83938933],\n",
       "       [  1.27563997],\n",
       "       [103.5863301 ],\n",
       "       [  0.89887805],\n",
       "       [ 29.71124994],\n",
       "       [  7.0262166 ],\n",
       "       [197.42979387],\n",
       "       [172.29580212],\n",
       "       [155.93640307],\n",
       "       [ 59.89186347],\n",
       "       [  1.54333923],\n",
       "       [ 10.16920418],\n",
       "       [ 32.06105552],\n",
       "       [  7.30383065],\n",
       "       [  0.81955975],\n",
       "       [  4.9242817 ],\n",
       "       [  4.42854233],\n",
       "       [  2.68353977],\n",
       "       [  4.71607116],\n",
       "       [126.22179149],\n",
       "       [ 27.66880475],\n",
       "       [  5.78686819],\n",
       "       [  5.18206617],\n",
       "       [102.99144485],\n",
       "       [  2.2671187 ],\n",
       "       [146.20008988],\n",
       "       [ 22.27515947],\n",
       "       [  9.06866279],\n",
       "       [  0.80964497],\n",
       "       [  5.34070276],\n",
       "       [150.62207609],\n",
       "       [  1.54333923],\n",
       "       [  6.52056245],\n",
       "       [ 21.9380567 ],\n",
       "       [162.17281222],\n",
       "       [  5.55882808],\n",
       "       [ 24.55555956],\n",
       "       [133.47941579],\n",
       "       [ 37.65299457],\n",
       "       [ 21.01598148],\n",
       "       [ 54.83531897],\n",
       "       [  4.01212126],\n",
       "       [ 66.51494139],\n",
       "       [  7.01630182],\n",
       "       [ 39.36825277],\n",
       "       [165.9899964 ],\n",
       "       [ 58.8508108 ],\n",
       "       [  8.75138959],\n",
       "       [142.31349425],\n",
       "       [  5.67780553],\n",
       "       [  1.40453221],\n",
       "       [ 70.80804627],\n",
       "       [  1.04759986],\n",
       "       [ 48.39070723],\n",
       "       [  2.05890817],\n",
       "       [140.0727434 ],\n",
       "       [  3.97246212],\n",
       "       [ 21.12504414],\n",
       "       [ 41.03393704],\n",
       "       [  5.40019149],\n",
       "       [  4.42854233],\n",
       "       [  4.25007616],\n",
       "       [237.39629849],\n",
       "       [  8.84062268],\n",
       "       [ 55.45003876],\n",
       "       [  1.35495827],\n",
       "       [ 30.45485899],\n",
       "       [156.65026875],\n",
       "       [ 63.66939446],\n",
       "       [ 32.4675618 ],\n",
       "       [  2.812432  ],\n",
       "       [  4.24016137],\n",
       "       [108.08764453],\n",
       "       [150.82038373],\n",
       "       [ 32.15028861],\n",
       "       [121.95842998],\n",
       "       [  9.79244226],\n",
       "       [  6.7981765 ],\n",
       "       [  6.47098851],\n",
       "       [ 52.35662215],\n",
       "       [115.64270749],\n",
       "       [163.35267488],\n",
       "       [  2.51498838],\n",
       "       [  1.15666252],\n",
       "       [  1.22606603],\n",
       "       [136.34478833],\n",
       "       [ 25.82465332],\n",
       "       [ 64.5419007 ],\n",
       "       [148.73827245],\n",
       "       [  1.43427657],\n",
       "       [  9.71312396],\n",
       "       [105.33133465],\n",
       "       [ 30.00869257],\n",
       "       [  2.58439189],\n",
       "       [  1.4838505 ],\n",
       "       [  1.02777029],\n",
       "       [  4.96394085],\n",
       "       [147.26096419],\n",
       "       [ 17.6449538 ],\n",
       "       [  1.57308359],\n",
       "       [ 31.62480389],\n",
       "       [  4.54751978],\n",
       "       [133.59838828],\n",
       "       [ 19.6774842 ],\n",
       "       [  4.51777542],\n",
       "       [164.93903192],\n",
       "       [184.17372821],\n",
       "       [  5.08291829],\n",
       "       [  0.86913369],\n",
       "       [  1.43427657],\n",
       "       [  9.65363524],\n",
       "       [ 29.94920484],\n",
       "       [171.43322058],\n",
       "       [ 14.1351191 ],\n",
       "       [194.00919522],\n",
       "       [  8.77121917],\n",
       "       [  1.46402093],\n",
       "       [  4.94411127],\n",
       "       [113.67958457],\n",
       "       [  4.9242817 ],\n",
       "       [171.78024408],\n",
       "       [ 14.23426697],\n",
       "       [146.76522482],\n",
       "       [  5.58857245],\n",
       "       [ 18.12086359],\n",
       "       [138.0302992 ],\n",
       "       [174.60594954],\n",
       "       [165.32570764],\n",
       "       [ 19.25115033],\n",
       "       [  1.30538433],\n",
       "       [ 50.25468823],\n",
       "       [138.7639994 ],\n",
       "       [179.89053216],\n",
       "       [  1.24589561],\n",
       "       [ 31.36701942],\n",
       "       [129.60272999],\n",
       "       [  0.90879284],\n",
       "       [ 21.72984716],\n",
       "       [180.32678578]])"
      ]
     },
     "execution_count": 39,
     "metadata": {},
     "output_type": "execute_result"
    }
   ],
   "source": [
    "y_pred"
   ]
  },
  {
   "cell_type": "code",
   "execution_count": 36,
   "id": "48c5ff5a",
   "metadata": {},
   "outputs": [
    {
     "name": "stdout",
     "output_type": "stream",
     "text": [
      "Model Coefficients: [[0.99147873]]\n",
      "Mean Absolute Error: 2.6282801784081453\n",
      "Coefficient of Determination: 0.9944564986772676\n"
     ]
    }
   ],
   "source": [
    "from sklearn.metrics import mean_squared_error, r2_score, mean_absolute_error\n",
    "# Printout relevant metrics\n",
    "print(\"Model Coefficients:\", model.coef_)\n",
    "print(\"Mean Absolute Error:\", mean_absolute_error(y_test, y_pred))\n",
    "print(\"Coefficient of Determination:\", r2_score(y_test, y_pred))\n"
   ]
  },
  {
   "cell_type": "code",
   "execution_count": 41,
   "id": "33068c6c",
   "metadata": {},
   "outputs": [
    {
     "data": {
      "image/png": "[encoded data removed]",
      "text/plain": [
       "<Figure size 1440x720 with 1 Axes>"
      ]
     },
     "metadata": {},
     "output_type": "display_data"
    }
   ],
   "source": [
    "plt.scatter(index, y_pred)\n",
    "plt.plot(X_test,y_pred,color='red')\n",
    "plt.show()"
   ]
  },
  {
   "cell_type": "code",
   "execution_count": null,
   "id": "fcaa85ba",
   "metadata": {},
   "outputs": [],
   "source": [
    "x= df.Adj Close"
   ]
  },
  {
   "cell_type": "code",
   "execution_count": null,
   "id": "c0f53c30",
   "metadata": {},
   "outputs": [],
   "source": [
    "plt.scatter('Adj Close', y_pred)\n",
    "plt.plot('',y_pred,color='red')\n",
    "plt.show()"
   ]
  },
  {
   "cell_type": "code",
   "execution_count": 38,
   "id": "6feda756",
   "metadata": {},
   "outputs": [
    {
     "ename": "SyntaxError",
     "evalue": "invalid syntax (2130311704.py, line 1)",
     "output_type": "error",
     "traceback": [
      "\u001b[0;36m  File \u001b[0;32m\"/var/folders/9q/g7z0jmnx4q11sb59s6vvk1zw0000gn/T/ipykernel_4094/2130311704.py\"\u001b[0;36m, line \u001b[0;32m1\u001b[0m\n\u001b[0;31m    X =df.Adj Close.values.reshape(-1,1)\u001b[0m\n\u001b[0m                  ^\u001b[0m\n\u001b[0;31mSyntaxError\u001b[0m\u001b[0;31m:\u001b[0m invalid syntax\n"
     ]
    }
   ],
   "source": [
    "X = df.Adj Close.values.reshape(-1,1)"
   ]
  },
  {
   "cell_type": "code",
   "execution_count": 44,
   "id": "f4c56aeb",
   "metadata": {},
   "outputs": [
    {
     "ename": "ValueError",
     "evalue": "x and y must be the same size",
     "output_type": "error",
     "traceback": [
      "\u001b[0;31m---------------------------------------------------------------------------\u001b[0m",
      "\u001b[0;31mValueError\u001b[0m                                Traceback (most recent call last)",
      "\u001b[0;32m/var/folders/9q/g7z0jmnx4q11sb59s6vvk1zw0000gn/T/ipykernel_4094/1277821275.py\u001b[0m in \u001b[0;36m<module>\u001b[0;34m\u001b[0m\n\u001b[0;32m----> 1\u001b[0;31m \u001b[0mplt\u001b[0m\u001b[0;34m.\u001b[0m\u001b[0mscatter\u001b[0m\u001b[0;34m(\u001b[0m\u001b[0mdf\u001b[0m\u001b[0;34m.\u001b[0m\u001b[0mindex\u001b[0m\u001b[0;34m.\u001b[0m\u001b[0mvalues\u001b[0m\u001b[0;34m,\u001b[0m\u001b[0my_pred\u001b[0m\u001b[0;34m)\u001b[0m\u001b[0;34m\u001b[0m\u001b[0;34m\u001b[0m\u001b[0m\n\u001b[0m\u001b[1;32m      2\u001b[0m \u001b[0mplt\u001b[0m\u001b[0;34m.\u001b[0m\u001b[0mplot\u001b[0m\u001b[0;34m(\u001b[0m\u001b[0mdf\u001b[0m\u001b[0;34m.\u001b[0m\u001b[0mindex\u001b[0m\u001b[0;34m.\u001b[0m\u001b[0mvalues\u001b[0m\u001b[0;34m,\u001b[0m \u001b[0my_pred\u001b[0m\u001b[0;34m,\u001b[0m \u001b[0mcolor\u001b[0m \u001b[0;34m=\u001b[0m\u001b[0;34m'red'\u001b[0m\u001b[0;34m)\u001b[0m\u001b[0;34m\u001b[0m\u001b[0;34m\u001b[0m\u001b[0m\n\u001b[1;32m      3\u001b[0m \u001b[0mplt\u001b[0m\u001b[0;34m.\u001b[0m\u001b[0mshow\u001b[0m\u001b[0;34m(\u001b[0m\u001b[0;34m)\u001b[0m\u001b[0;34m\u001b[0m\u001b[0;34m\u001b[0m\u001b[0m\n",
      "\u001b[0;32m~/opt/anaconda3/envs/mlenv/lib/python3.7/site-packages/matplotlib/pyplot.py\u001b[0m in \u001b[0;36mscatter\u001b[0;34m(x, y, s, c, marker, cmap, norm, vmin, vmax, alpha, linewidths, edgecolors, plotnonfinite, data, **kwargs)\u001b[0m\n\u001b[1;32m   2809\u001b[0m         \u001b[0mvmin\u001b[0m\u001b[0;34m=\u001b[0m\u001b[0mvmin\u001b[0m\u001b[0;34m,\u001b[0m \u001b[0mvmax\u001b[0m\u001b[0;34m=\u001b[0m\u001b[0mvmax\u001b[0m\u001b[0;34m,\u001b[0m \u001b[0malpha\u001b[0m\u001b[0;34m=\u001b[0m\u001b[0malpha\u001b[0m\u001b[0;34m,\u001b[0m \u001b[0mlinewidths\u001b[0m\u001b[0;34m=\u001b[0m\u001b[0mlinewidths\u001b[0m\u001b[0;34m,\u001b[0m\u001b[0;34m\u001b[0m\u001b[0;34m\u001b[0m\u001b[0m\n\u001b[1;32m   2810\u001b[0m         \u001b[0medgecolors\u001b[0m\u001b[0;34m=\u001b[0m\u001b[0medgecolors\u001b[0m\u001b[0;34m,\u001b[0m \u001b[0mplotnonfinite\u001b[0m\u001b[0;34m=\u001b[0m\u001b[0mplotnonfinite\u001b[0m\u001b[0;34m,\u001b[0m\u001b[0;34m\u001b[0m\u001b[0;34m\u001b[0m\u001b[0m\n\u001b[0;32m-> 2811\u001b[0;31m         **({\"data\": data} if data is not None else {}), **kwargs)\n\u001b[0m\u001b[1;32m   2812\u001b[0m     \u001b[0msci\u001b[0m\u001b[0;34m(\u001b[0m\u001b[0m__ret\u001b[0m\u001b[0;34m)\u001b[0m\u001b[0;34m\u001b[0m\u001b[0;34m\u001b[0m\u001b[0m\n\u001b[1;32m   2813\u001b[0m     \u001b[0;32mreturn\u001b[0m \u001b[0m__ret\u001b[0m\u001b[0;34m\u001b[0m\u001b[0;34m\u001b[0m\u001b[0m\n",
      "\u001b[0;32m~/opt/anaconda3/envs/mlenv/lib/python3.7/site-packages/matplotlib/__init__.py\u001b[0m in \u001b[0;36minner\u001b[0;34m(ax, data, *args, **kwargs)\u001b[0m\n\u001b[1;32m   1410\u001b[0m     \u001b[0;32mdef\u001b[0m \u001b[0minner\u001b[0m\u001b[0;34m(\u001b[0m\u001b[0max\u001b[0m\u001b[0;34m,\u001b[0m \u001b[0;34m*\u001b[0m\u001b[0margs\u001b[0m\u001b[0;34m,\u001b[0m \u001b[0mdata\u001b[0m\u001b[0;34m=\u001b[0m\u001b[0;32mNone\u001b[0m\u001b[0;34m,\u001b[0m \u001b[0;34m**\u001b[0m\u001b[0mkwargs\u001b[0m\u001b[0;34m)\u001b[0m\u001b[0;34m:\u001b[0m\u001b[0;34m\u001b[0m\u001b[0;34m\u001b[0m\u001b[0m\n\u001b[1;32m   1411\u001b[0m         \u001b[0;32mif\u001b[0m \u001b[0mdata\u001b[0m \u001b[0;32mis\u001b[0m \u001b[0;32mNone\u001b[0m\u001b[0;34m:\u001b[0m\u001b[0;34m\u001b[0m\u001b[0;34m\u001b[0m\u001b[0m\n\u001b[0;32m-> 1412\u001b[0;31m             \u001b[0;32mreturn\u001b[0m \u001b[0mfunc\u001b[0m\u001b[0;34m(\u001b[0m\u001b[0max\u001b[0m\u001b[0;34m,\u001b[0m \u001b[0;34m*\u001b[0m\u001b[0mmap\u001b[0m\u001b[0;34m(\u001b[0m\u001b[0msanitize_sequence\u001b[0m\u001b[0;34m,\u001b[0m \u001b[0margs\u001b[0m\u001b[0;34m)\u001b[0m\u001b[0;34m,\u001b[0m \u001b[0;34m**\u001b[0m\u001b[0mkwargs\u001b[0m\u001b[0;34m)\u001b[0m\u001b[0;34m\u001b[0m\u001b[0;34m\u001b[0m\u001b[0m\n\u001b[0m\u001b[1;32m   1413\u001b[0m \u001b[0;34m\u001b[0m\u001b[0m\n\u001b[1;32m   1414\u001b[0m         \u001b[0mbound\u001b[0m \u001b[0;34m=\u001b[0m \u001b[0mnew_sig\u001b[0m\u001b[0;34m.\u001b[0m\u001b[0mbind\u001b[0m\u001b[0;34m(\u001b[0m\u001b[0max\u001b[0m\u001b[0;34m,\u001b[0m \u001b[0;34m*\u001b[0m\u001b[0margs\u001b[0m\u001b[0;34m,\u001b[0m \u001b[0;34m**\u001b[0m\u001b[0mkwargs\u001b[0m\u001b[0;34m)\u001b[0m\u001b[0;34m\u001b[0m\u001b[0;34m\u001b[0m\u001b[0m\n",
      "\u001b[0;32m~/opt/anaconda3/envs/mlenv/lib/python3.7/site-packages/matplotlib/axes/_axes.py\u001b[0m in \u001b[0;36mscatter\u001b[0;34m(self, x, y, s, c, marker, cmap, norm, vmin, vmax, alpha, linewidths, edgecolors, plotnonfinite, **kwargs)\u001b[0m\n\u001b[1;32m   4367\u001b[0m         \u001b[0my\u001b[0m \u001b[0;34m=\u001b[0m \u001b[0mnp\u001b[0m\u001b[0;34m.\u001b[0m\u001b[0mma\u001b[0m\u001b[0;34m.\u001b[0m\u001b[0mravel\u001b[0m\u001b[0;34m(\u001b[0m\u001b[0my\u001b[0m\u001b[0;34m)\u001b[0m\u001b[0;34m\u001b[0m\u001b[0;34m\u001b[0m\u001b[0m\n\u001b[1;32m   4368\u001b[0m         \u001b[0;32mif\u001b[0m \u001b[0mx\u001b[0m\u001b[0;34m.\u001b[0m\u001b[0msize\u001b[0m \u001b[0;34m!=\u001b[0m \u001b[0my\u001b[0m\u001b[0;34m.\u001b[0m\u001b[0msize\u001b[0m\u001b[0;34m:\u001b[0m\u001b[0;34m\u001b[0m\u001b[0;34m\u001b[0m\u001b[0m\n\u001b[0;32m-> 4369\u001b[0;31m             \u001b[0;32mraise\u001b[0m \u001b[0mValueError\u001b[0m\u001b[0;34m(\u001b[0m\u001b[0;34m\"x and y must be the same size\"\u001b[0m\u001b[0;34m)\u001b[0m\u001b[0;34m\u001b[0m\u001b[0;34m\u001b[0m\u001b[0m\n\u001b[0m\u001b[1;32m   4370\u001b[0m \u001b[0;34m\u001b[0m\u001b[0m\n\u001b[1;32m   4371\u001b[0m         \u001b[0;32mif\u001b[0m \u001b[0ms\u001b[0m \u001b[0;32mis\u001b[0m \u001b[0;32mNone\u001b[0m\u001b[0;34m:\u001b[0m\u001b[0;34m\u001b[0m\u001b[0;34m\u001b[0m\u001b[0m\n",
      "\u001b[0;31mValueError\u001b[0m: x and y must be the same size"
     ]
    },
    {
     "data": {
      "image/png": "[encoded data removed]",
      "text/plain": [
       "<Figure size 1440x720 with 1 Axes>"
      ]
     },
     "metadata": {},
     "output_type": "display_data"
    }
   ],
   "source": [
    "plt.scatter(df.index.values,y_pred)\n",
    "plt.plot(df.index.values, y_pred, color ='red')\n",
    "plt.show()"
   ]
  },
  {
   "cell_type": "code",
   "execution_count": 47,
   "id": "e9c1df12",
   "metadata": {},
   "outputs": [
    {
     "data": {
      "text/plain": [
       "(259, 1)"
      ]
     },
     "execution_count": 47,
     "metadata": {},
     "output_type": "execute_result"
    }
   ],
   "source": [
    "X_test.shape"
   ]
  },
  {
   "cell_type": "code",
   "execution_count": 63,
   "id": "7004de29",
   "metadata": {},
   "outputs": [
    {
     "name": "stdout",
     "output_type": "stream",
     "text": [
      "<class 'pandas.core.frame.DataFrame'>\n"
     ]
    }
   ],
   "source": [
    "print(type(X_test))"
   ]
  },
  {
   "cell_type": "code",
   "execution_count": 54,
   "id": "4faf87cf",
   "metadata": {},
   "outputs": [
    {
     "data": {
      "text/html": [
       "<div>\n",
       "<style scoped>\n",
       "    .dataframe tbody tr th:only-of-type {\n",
       "        vertical-align: middle;\n",
       "    }\n",
       "\n",
       "    .dataframe tbody tr th {\n",
       "        vertical-align: top;\n",
       "    }\n",
       "\n",
       "    .dataframe thead th {\n",
       "        text-align: right;\n",
       "    }\n",
       "</style>\n",
       "<table border=\"1\" class=\"dataframe\">\n",
       "  <thead>\n",
       "    <tr style=\"text-align: right;\">\n",
       "      <th></th>\n",
       "      <th>Adj Close</th>\n",
       "    </tr>\n",
       "    <tr>\n",
       "      <th>Date</th>\n",
       "      <th></th>\n",
       "    </tr>\n",
       "  </thead>\n",
       "  <tbody>\n",
       "    <tr>\n",
       "      <th>2017-06-02</th>\n",
       "      <td>0.820000</td>\n",
       "    </tr>\n",
       "    <tr>\n",
       "      <th>2017-07-12</th>\n",
       "      <td>0.820000</td>\n",
       "    </tr>\n",
       "    <tr>\n",
       "      <th>2019-12-12</th>\n",
       "      <td>23.680000</td>\n",
       "    </tr>\n",
       "    <tr>\n",
       "      <th>2019-12-05</th>\n",
       "      <td>23.370001</td>\n",
       "    </tr>\n",
       "    <tr>\n",
       "      <th>2018-08-02</th>\n",
       "      <td>5.700000</td>\n",
       "    </tr>\n",
       "    <tr>\n",
       "      <th>...</th>\n",
       "      <td>...</td>\n",
       "    </tr>\n",
       "    <tr>\n",
       "      <th>2020-01-09</th>\n",
       "      <td>31.590000</td>\n",
       "    </tr>\n",
       "    <tr>\n",
       "      <th>2021-05-19</th>\n",
       "      <td>130.669998</td>\n",
       "    </tr>\n",
       "    <tr>\n",
       "      <th>2017-08-18</th>\n",
       "      <td>0.870000</td>\n",
       "    </tr>\n",
       "    <tr>\n",
       "      <th>2019-11-29</th>\n",
       "      <td>21.870001</td>\n",
       "    </tr>\n",
       "    <tr>\n",
       "      <th>2021-07-07</th>\n",
       "      <td>181.830002</td>\n",
       "    </tr>\n",
       "  </tbody>\n",
       "</table>\n",
       "<p>259 rows × 1 columns</p>\n",
       "</div>"
      ],
      "text/plain": [
       "             Adj Close\n",
       "Date                  \n",
       "2017-06-02    0.820000\n",
       "2017-07-12    0.820000\n",
       "2019-12-12   23.680000\n",
       "2019-12-05   23.370001\n",
       "2018-08-02    5.700000\n",
       "...                ...\n",
       "2020-01-09   31.590000\n",
       "2021-05-19  130.669998\n",
       "2017-08-18    0.870000\n",
       "2019-11-29   21.870001\n",
       "2021-07-07  181.830002\n",
       "\n",
       "[259 rows x 1 columns]"
      ]
     },
     "execution_count": 54,
     "metadata": {},
     "output_type": "execute_result"
    }
   ],
   "source": [
    "X_test"
   ]
  },
  {
   "cell_type": "code",
   "execution_count": 48,
   "id": "40c3f1af",
   "metadata": {},
   "outputs": [
    {
     "data": {
      "text/plain": [
       "(259, 1)"
      ]
     },
     "execution_count": 48,
     "metadata": {},
     "output_type": "execute_result"
    }
   ],
   "source": [
    "y_pred.shape"
   ]
  },
  {
   "cell_type": "code",
   "execution_count": 60,
   "id": "c9c39aac",
   "metadata": {},
   "outputs": [
    {
     "data": {
      "text/plain": [
       "array([[  0.8592189 ],\n",
       "       [  0.8592189 ],\n",
       "       [ 23.52442267],\n",
       "       [ 23.21706525],\n",
       "       [  5.69763511],\n",
       "       [  5.86618649],\n",
       "       [  0.8592189 ],\n",
       "       [179.97976227],\n",
       "       [239.60729209],\n",
       "       [  0.8592189 ],\n",
       "       [  4.50786063],\n",
       "       [ 66.77272784],\n",
       "       [184.18363705],\n",
       "       [ 31.27778634],\n",
       "       [  4.83504861],\n",
       "       [159.55530936],\n",
       "       [194.7131362 ],\n",
       "       [  1.28555476],\n",
       "       [  1.32521391],\n",
       "       [  6.1735449 ],\n",
       "       [ 50.51247568],\n",
       "       [  4.26990573],\n",
       "       [  6.70894341],\n",
       "       [ 17.22853273],\n",
       "       [233.04370786],\n",
       "       [  5.65797596],\n",
       "       [ 29.78065345],\n",
       "       [  2.79260243],\n",
       "       [ 97.8357505 ],\n",
       "       [ 23.12783217],\n",
       "       [  5.1523218 ],\n",
       "       [  4.72598595],\n",
       "       [211.74674871],\n",
       "       [  4.50786063],\n",
       "       [ 45.14857575],\n",
       "       [  4.16084307],\n",
       "       [ 24.36718058],\n",
       "       [ 14.50196623],\n",
       "       [  6.96672788],\n",
       "       [  6.60979554],\n",
       "       [  5.30104361],\n",
       "       [  5.80669777],\n",
       "       [143.88003263],\n",
       "       [  0.83938933],\n",
       "       [ 15.13651261],\n",
       "       [161.96459573],\n",
       "       [  4.40871276],\n",
       "       [  1.46402093],\n",
       "       [ 72.26551306],\n",
       "       [ 20.67887772],\n",
       "       [  5.44976542],\n",
       "       [154.68714483],\n",
       "       [229.55369877],\n",
       "       [  3.32800094],\n",
       "       [168.83555027],\n",
       "       [192.32366949],\n",
       "       [ 47.21084952],\n",
       "       [  5.30104361],\n",
       "       [  0.86913369],\n",
       "       [  1.67223146],\n",
       "       [ 15.88012166],\n",
       "       [ 19.00328065],\n",
       "       [145.92247683],\n",
       "       [ 21.57120858],\n",
       "       [119.28144038],\n",
       "       [ 17.40699891],\n",
       "       [ 20.66896293],\n",
       "       [ 31.9420751 ],\n",
       "       [  7.21459756],\n",
       "       [234.61024624],\n",
       "       [124.99235291],\n",
       "       [  0.94845199],\n",
       "       [  0.80964497],\n",
       "       [148.19295618],\n",
       "       [ 21.06555641],\n",
       "       [104.64721234],\n",
       "       [113.75890386],\n",
       "       [  6.14380053],\n",
       "       [ 59.21765694],\n",
       "       [  4.93419648],\n",
       "       [129.39452838],\n",
       "       [  0.84930412],\n",
       "       [  2.83226158],\n",
       "       [ 10.3873295 ],\n",
       "       [  1.69206104],\n",
       "       [187.24730335],\n",
       "       [  0.82947454],\n",
       "       [ 33.80605611],\n",
       "       [  1.50368008],\n",
       "       [  6.7188582 ],\n",
       "       [126.88608026],\n",
       "       [  1.53342444],\n",
       "       [  6.58005118],\n",
       "       [  2.09856732],\n",
       "       [  4.64666765],\n",
       "       [  2.30677785],\n",
       "       [  4.43845712],\n",
       "       [133.03325334],\n",
       "       [  5.62823159],\n",
       "       [ 10.19894854],\n",
       "       [ 35.86833385],\n",
       "       [130.13813743],\n",
       "       [  2.57447711],\n",
       "       [183.93576736],\n",
       "       [240.57895216],\n",
       "       [  2.45549966],\n",
       "       [  1.39461742],\n",
       "       [170.81850773],\n",
       "       [  5.05317393],\n",
       "       [185.78982763],\n",
       "       [ 13.94673814],\n",
       "       [ 15.27531964],\n",
       "       [ 88.79346944],\n",
       "       [  8.03752491],\n",
       "       [  6.60979554],\n",
       "       [ 52.49543314],\n",
       "       [  1.40453221],\n",
       "       [  1.37478784],\n",
       "       [ 21.51172085],\n",
       "       [  5.94550479],\n",
       "       [  0.83938933],\n",
       "       [  1.27563997],\n",
       "       [103.5863301 ],\n",
       "       [  0.89887805],\n",
       "       [ 29.71124994],\n",
       "       [  7.0262166 ],\n",
       "       [197.42979387],\n",
       "       [172.29580212],\n",
       "       [155.93640307],\n",
       "       [ 59.89186347],\n",
       "       [  1.54333923],\n",
       "       [ 10.16920418],\n",
       "       [ 32.06105552],\n",
       "       [  7.30383065],\n",
       "       [  0.81955975],\n",
       "       [  4.9242817 ],\n",
       "       [  4.42854233],\n",
       "       [  2.68353977],\n",
       "       [  4.71607116],\n",
       "       [126.22179149],\n",
       "       [ 27.66880475],\n",
       "       [  5.78686819],\n",
       "       [  5.18206617],\n",
       "       [102.99144485],\n",
       "       [  2.2671187 ],\n",
       "       [146.20008988],\n",
       "       [ 22.27515947],\n",
       "       [  9.06866279],\n",
       "       [  0.80964497],\n",
       "       [  5.34070276],\n",
       "       [150.62207609],\n",
       "       [  1.54333923],\n",
       "       [  6.52056245],\n",
       "       [ 21.9380567 ],\n",
       "       [162.17281222],\n",
       "       [  5.55882808],\n",
       "       [ 24.55555956],\n",
       "       [133.47941579],\n",
       "       [ 37.65299457],\n",
       "       [ 21.01598148],\n",
       "       [ 54.83531897],\n",
       "       [  4.01212126],\n",
       "       [ 66.51494139],\n",
       "       [  7.01630182],\n",
       "       [ 39.36825277],\n",
       "       [165.9899964 ],\n",
       "       [ 58.8508108 ],\n",
       "       [  8.75138959],\n",
       "       [142.31349425],\n",
       "       [  5.67780553],\n",
       "       [  1.40453221],\n",
       "       [ 70.80804627],\n",
       "       [  1.04759986],\n",
       "       [ 48.39070723],\n",
       "       [  2.05890817],\n",
       "       [140.0727434 ],\n",
       "       [  3.97246212],\n",
       "       [ 21.12504414],\n",
       "       [ 41.03393704],\n",
       "       [  5.40019149],\n",
       "       [  4.42854233],\n",
       "       [  4.25007616],\n",
       "       [237.39629849],\n",
       "       [  8.84062268],\n",
       "       [ 55.45003876],\n",
       "       [  1.35495827],\n",
       "       [ 30.45485899],\n",
       "       [156.65026875],\n",
       "       [ 63.66939446],\n",
       "       [ 32.4675618 ],\n",
       "       [  2.812432  ],\n",
       "       [  4.24016137],\n",
       "       [108.08764453],\n",
       "       [150.82038373],\n",
       "       [ 32.15028861],\n",
       "       [121.95842998],\n",
       "       [  9.79244226],\n",
       "       [  6.7981765 ],\n",
       "       [  6.47098851],\n",
       "       [ 52.35662215],\n",
       "       [115.64270749],\n",
       "       [163.35267488],\n",
       "       [  2.51498838],\n",
       "       [  1.15666252],\n",
       "       [  1.22606603],\n",
       "       [136.34478833],\n",
       "       [ 25.82465332],\n",
       "       [ 64.5419007 ],\n",
       "       [148.73827245],\n",
       "       [  1.43427657],\n",
       "       [  9.71312396],\n",
       "       [105.33133465],\n",
       "       [ 30.00869257],\n",
       "       [  2.58439189],\n",
       "       [  1.4838505 ],\n",
       "       [  1.02777029],\n",
       "       [  4.96394085],\n",
       "       [147.26096419],\n",
       "       [ 17.6449538 ],\n",
       "       [  1.57308359],\n",
       "       [ 31.62480389],\n",
       "       [  4.54751978],\n",
       "       [133.59838828],\n",
       "       [ 19.6774842 ],\n",
       "       [  4.51777542],\n",
       "       [164.93903192],\n",
       "       [184.17372821],\n",
       "       [  5.08291829],\n",
       "       [  0.86913369],\n",
       "       [  1.43427657],\n",
       "       [  9.65363524],\n",
       "       [ 29.94920484],\n",
       "       [171.43322058],\n",
       "       [ 14.1351191 ],\n",
       "       [194.00919522],\n",
       "       [  8.77121917],\n",
       "       [  1.46402093],\n",
       "       [  4.94411127],\n",
       "       [113.67958457],\n",
       "       [  4.9242817 ],\n",
       "       [171.78024408],\n",
       "       [ 14.23426697],\n",
       "       [146.76522482],\n",
       "       [  5.58857245],\n",
       "       [ 18.12086359],\n",
       "       [138.0302992 ],\n",
       "       [174.60594954],\n",
       "       [165.32570764],\n",
       "       [ 19.25115033],\n",
       "       [  1.30538433],\n",
       "       [ 50.25468823],\n",
       "       [138.7639994 ],\n",
       "       [179.89053216],\n",
       "       [  1.24589561],\n",
       "       [ 31.36701942],\n",
       "       [129.60272999],\n",
       "       [  0.90879284],\n",
       "       [ 21.72984716],\n",
       "       [180.32678578]])"
      ]
     },
     "execution_count": 60,
     "metadata": {},
     "output_type": "execute_result"
    }
   ],
   "source": [
    "y_pred"
   ]
  },
  {
   "cell_type": "code",
   "execution_count": 64,
   "id": "403e60f1",
   "metadata": {},
   "outputs": [
    {
     "name": "stdout",
     "output_type": "stream",
     "text": [
      "<class 'numpy.ndarray'>\n"
     ]
    }
   ],
   "source": [
    "print(type(y_pred))"
   ]
  },
  {
   "cell_type": "code",
   "execution_count": 65,
   "id": "7508c447",
   "metadata": {},
   "outputs": [],
   "source": [
    "y_df = pd.DataFrame(y_pred)"
   ]
  },
  {
   "cell_type": "code",
   "execution_count": 67,
   "id": "1882ea34",
   "metadata": {},
   "outputs": [
    {
     "name": "stdout",
     "output_type": "stream",
     "text": [
      "<class 'pandas.core.frame.DataFrame'>\n"
     ]
    }
   ],
   "source": [
    "print(type(y_df))"
   ]
  },
  {
   "cell_type": "code",
   "execution_count": 68,
   "id": "db9bc00b",
   "metadata": {},
   "outputs": [
    {
     "data": {
      "text/html": [
       "<div>\n",
       "<style scoped>\n",
       "    .dataframe tbody tr th:only-of-type {\n",
       "        vertical-align: middle;\n",
       "    }\n",
       "\n",
       "    .dataframe tbody tr th {\n",
       "        vertical-align: top;\n",
       "    }\n",
       "\n",
       "    .dataframe thead th {\n",
       "        text-align: right;\n",
       "    }\n",
       "</style>\n",
       "<table border=\"1\" class=\"dataframe\">\n",
       "  <thead>\n",
       "    <tr style=\"text-align: right;\">\n",
       "      <th></th>\n",
       "      <th>0</th>\n",
       "    </tr>\n",
       "  </thead>\n",
       "  <tbody>\n",
       "    <tr>\n",
       "      <th>0</th>\n",
       "      <td>0.859219</td>\n",
       "    </tr>\n",
       "    <tr>\n",
       "      <th>1</th>\n",
       "      <td>0.859219</td>\n",
       "    </tr>\n",
       "    <tr>\n",
       "      <th>2</th>\n",
       "      <td>23.524423</td>\n",
       "    </tr>\n",
       "    <tr>\n",
       "      <th>3</th>\n",
       "      <td>23.217065</td>\n",
       "    </tr>\n",
       "    <tr>\n",
       "      <th>4</th>\n",
       "      <td>5.697635</td>\n",
       "    </tr>\n",
       "    <tr>\n",
       "      <th>...</th>\n",
       "      <td>...</td>\n",
       "    </tr>\n",
       "    <tr>\n",
       "      <th>254</th>\n",
       "      <td>31.367019</td>\n",
       "    </tr>\n",
       "    <tr>\n",
       "      <th>255</th>\n",
       "      <td>129.602730</td>\n",
       "    </tr>\n",
       "    <tr>\n",
       "      <th>256</th>\n",
       "      <td>0.908793</td>\n",
       "    </tr>\n",
       "    <tr>\n",
       "      <th>257</th>\n",
       "      <td>21.729847</td>\n",
       "    </tr>\n",
       "    <tr>\n",
       "      <th>258</th>\n",
       "      <td>180.326786</td>\n",
       "    </tr>\n",
       "  </tbody>\n",
       "</table>\n",
       "<p>259 rows × 1 columns</p>\n",
       "</div>"
      ],
      "text/plain": [
       "              0\n",
       "0      0.859219\n",
       "1      0.859219\n",
       "2     23.524423\n",
       "3     23.217065\n",
       "4      5.697635\n",
       "..          ...\n",
       "254   31.367019\n",
       "255  129.602730\n",
       "256    0.908793\n",
       "257   21.729847\n",
       "258  180.326786\n",
       "\n",
       "[259 rows x 1 columns]"
      ]
     },
     "execution_count": 68,
     "metadata": {},
     "output_type": "execute_result"
    }
   ],
   "source": [
    "y_df"
   ]
  },
  {
   "cell_type": "code",
   "execution_count": 71,
   "id": "d0927c15",
   "metadata": {},
   "outputs": [],
   "source": [
    "new_df = pd.DataFrame({\"Adj_Close\": df['Adj Close'], \"Predict\":y_df[0]})"
   ]
  },
  {
   "cell_type": "code",
   "execution_count": 72,
   "id": "de24d689",
   "metadata": {},
   "outputs": [
    {
     "data": {
      "text/html": [
       "<div>\n",
       "<style scoped>\n",
       "    .dataframe tbody tr th:only-of-type {\n",
       "        vertical-align: middle;\n",
       "    }\n",
       "\n",
       "    .dataframe tbody tr th {\n",
       "        vertical-align: top;\n",
       "    }\n",
       "\n",
       "    .dataframe thead th {\n",
       "        text-align: right;\n",
       "    }\n",
       "</style>\n",
       "<table border=\"1\" class=\"dataframe\">\n",
       "  <thead>\n",
       "    <tr style=\"text-align: right;\">\n",
       "      <th></th>\n",
       "      <th>Adj_Close</th>\n",
       "      <th>Predict</th>\n",
       "    </tr>\n",
       "  </thead>\n",
       "  <tbody>\n",
       "    <tr>\n",
       "      <th>1970-01-01 00:00:00.000000000</th>\n",
       "      <td>NaN</td>\n",
       "      <td>NaN</td>\n",
       "    </tr>\n",
       "    <tr>\n",
       "      <th>1970-01-01 00:00:00.000000001</th>\n",
       "      <td>NaN</td>\n",
       "      <td>NaN</td>\n",
       "    </tr>\n",
       "    <tr>\n",
       "      <th>1970-01-01 00:00:00.000000002</th>\n",
       "      <td>NaN</td>\n",
       "      <td>NaN</td>\n",
       "    </tr>\n",
       "    <tr>\n",
       "      <th>1970-01-01 00:00:00.000000003</th>\n",
       "      <td>NaN</td>\n",
       "      <td>NaN</td>\n",
       "    </tr>\n",
       "    <tr>\n",
       "      <th>1970-01-01 00:00:00.000000004</th>\n",
       "      <td>NaN</td>\n",
       "      <td>NaN</td>\n",
       "    </tr>\n",
       "    <tr>\n",
       "      <th>...</th>\n",
       "      <td>...</td>\n",
       "      <td>...</td>\n",
       "    </tr>\n",
       "    <tr>\n",
       "      <th>2022-02-28 00:00:00.000000000</th>\n",
       "      <td>166.699997</td>\n",
       "      <td>NaN</td>\n",
       "    </tr>\n",
       "    <tr>\n",
       "      <th>2022-03-01 00:00:00.000000000</th>\n",
       "      <td>170.600006</td>\n",
       "      <td>NaN</td>\n",
       "    </tr>\n",
       "    <tr>\n",
       "      <th>2022-03-02 00:00:00.000000000</th>\n",
       "      <td>163.889999</td>\n",
       "      <td>NaN</td>\n",
       "    </tr>\n",
       "    <tr>\n",
       "      <th>2022-03-03 00:00:00.000000000</th>\n",
       "      <td>159.029999</td>\n",
       "      <td>NaN</td>\n",
       "    </tr>\n",
       "    <tr>\n",
       "      <th>2022-03-04 00:00:00.000000000</th>\n",
       "      <td>158.149994</td>\n",
       "      <td>NaN</td>\n",
       "    </tr>\n",
       "  </tbody>\n",
       "</table>\n",
       "<p>1551 rows × 2 columns</p>\n",
       "</div>"
      ],
      "text/plain": [
       "                                Adj_Close  Predict\n",
       "1970-01-01 00:00:00.000000000         NaN      NaN\n",
       "1970-01-01 00:00:00.000000001         NaN      NaN\n",
       "1970-01-01 00:00:00.000000002         NaN      NaN\n",
       "1970-01-01 00:00:00.000000003         NaN      NaN\n",
       "1970-01-01 00:00:00.000000004         NaN      NaN\n",
       "...                                   ...      ...\n",
       "2022-02-28 00:00:00.000000000  166.699997      NaN\n",
       "2022-03-01 00:00:00.000000000  170.600006      NaN\n",
       "2022-03-02 00:00:00.000000000  163.889999      NaN\n",
       "2022-03-03 00:00:00.000000000  159.029999      NaN\n",
       "2022-03-04 00:00:00.000000000  158.149994      NaN\n",
       "\n",
       "[1551 rows x 2 columns]"
      ]
     },
     "execution_count": 72,
     "metadata": {},
     "output_type": "execute_result"
    }
   ],
   "source": [
    "new_df"
   ]
  },
  {
   "cell_type": "code",
   "execution_count": 76,
   "id": "4da1c0b3",
   "metadata": {},
   "outputs": [
    {
     "data": {
      "image/png": "[encoded data removed]",
      "text/plain": [
       "<Figure size 1440x720 with 2 Axes>"
      ]
     },
     "metadata": {},
     "output_type": "display_data"
    }
   ],
   "source": [
    "# Create adj & EMA data\n",
    "data1 = new_df['Adj_Close']\n",
    "data2 = new_df['Predict']\n",
    "\n",
    "fig, ax1 = plt.subplots()\n",
    "\n",
    "color = 'tab:red'\n",
    "ax1.set_xlabel('time (s)')\n",
    "ax1.set_ylabel('exp', color=color)\n",
    "ax1.plot(new_df.index.values, data1, color=color)\n",
    "ax1.tick_params(axis='y', labelcolor=color)\n",
    "\n",
    "ax2 = ax1.twinx()  # instantiate a second axes that shares the same x-axis\n",
    "\n",
    "color = 'tab:blue'\n",
    "ax2.set_ylabel('sin', color=color)  # we already handled the x-label with ax1\n",
    "ax2.plot(new_df.index.values, data2, color=color)\n",
    "ax2.tick_params(axis='y', labelcolor=color)\n",
    "\n",
    "fig.tight_layout()  # otherwise the right y-label is slightly clipped\n",
    "plt.show()"
   ]
  },
  {
   "cell_type": "code",
   "execution_count": 52,
   "id": "bfa3977e",
   "metadata": {},
   "outputs": [],
   "source": [
    "x_reshape = X_test.values.reshape(-1,1)"
   ]
  },
  {
   "cell_type": "code",
   "execution_count": 53,
   "id": "abc8ad6d",
   "metadata": {},
   "outputs": [
    {
     "data": {
      "text/plain": [
       "(259, 1)"
      ]
     },
     "execution_count": 53,
     "metadata": {},
     "output_type": "execute_result"
    }
   ],
   "source": [
    "x_reshape.shape"
   ]
  },
  {
   "cell_type": "code",
   "execution_count": 55,
   "id": "7ec90d0a",
   "metadata": {},
   "outputs": [
    {
     "data": {
      "text/plain": [
       "array([[  0.82    ],\n",
       "       [  0.82    ],\n",
       "       [ 23.68    ],\n",
       "       [ 23.370001],\n",
       "       [  5.7     ],\n",
       "       [  5.87    ],\n",
       "       [  0.82    ],\n",
       "       [181.479996],\n",
       "       [241.619995],\n",
       "       [  0.82    ],\n",
       "       [  4.5     ],\n",
       "       [ 67.300003],\n",
       "       [185.720001],\n",
       "       [ 31.5     ],\n",
       "       [  4.83    ],\n",
       "       [160.880005],\n",
       "       [196.339996],\n",
       "       [  1.25    ],\n",
       "       [  1.29    ],\n",
       "       [  6.18    ],\n",
       "       [ 50.900002],\n",
       "       [  4.26    ],\n",
       "       [  6.72    ],\n",
       "       [ 17.33    ],\n",
       "       [235.      ],\n",
       "       [  5.66    ],\n",
       "       [ 29.99    ],\n",
       "       [  2.77    ],\n",
       "       [ 98.629997],\n",
       "       [ 23.280001],\n",
       "       [  5.15    ],\n",
       "       [  4.72    ],\n",
       "       [213.520004],\n",
       "       [  4.5     ],\n",
       "       [ 45.490002],\n",
       "       [  4.15    ],\n",
       "       [ 24.530001],\n",
       "       [ 14.58    ],\n",
       "       [  6.98    ],\n",
       "       [  6.62    ],\n",
       "       [  5.3     ],\n",
       "       [  5.81    ],\n",
       "       [145.070007],\n",
       "       [  0.8     ],\n",
       "       [ 15.22    ],\n",
       "       [163.309998],\n",
       "       [  4.4     ],\n",
       "       [  1.43    ],\n",
       "       [ 72.839996],\n",
       "       [ 20.809999],\n",
       "       [  5.45    ],\n",
       "       [155.970001],\n",
       "       [231.479996],\n",
       "       [  3.31    ],\n",
       "       [170.240005],\n",
       "       [193.929993],\n",
       "       [ 47.57    ],\n",
       "       [  5.3     ],\n",
       "       [  0.83    ],\n",
       "       [  1.64    ],\n",
       "       [ 15.97    ],\n",
       "       [ 19.120001],\n",
       "       [147.130005],\n",
       "       [ 21.709999],\n",
       "       [120.260002],\n",
       "       [ 17.51    ],\n",
       "       [ 20.799999],\n",
       "       [ 32.169998],\n",
       "       [  7.23    ],\n",
       "       [236.580002],\n",
       "       [126.019997],\n",
       "       [  0.91    ],\n",
       "       [  0.77    ],\n",
       "       [149.419998],\n",
       "       [ 21.200001],\n",
       "       [105.5     ],\n",
       "       [114.690002],\n",
       "       [  6.15    ],\n",
       "       [ 59.68    ],\n",
       "       [  4.93    ],\n",
       "       [130.460007],\n",
       "       [  0.81    ],\n",
       "       [  2.81    ],\n",
       "       [ 10.43    ],\n",
       "       [  1.66    ],\n",
       "       [188.809998],\n",
       "       [  0.79    ],\n",
       "       [ 34.049999],\n",
       "       [  1.47    ],\n",
       "       [  6.73    ],\n",
       "       [127.93    ],\n",
       "       [  1.5     ],\n",
       "       [  6.59    ],\n",
       "       [  2.07    ],\n",
       "       [  4.64    ],\n",
       "       [  2.28    ],\n",
       "       [  4.43    ],\n",
       "       [134.130005],\n",
       "       [  5.63    ],\n",
       "       [ 10.24    ],\n",
       "       [ 36.130001],\n",
       "       [131.210007],\n",
       "       [  2.55    ],\n",
       "       [185.470001],\n",
       "       [242.600006],\n",
       "       [  2.43    ],\n",
       "       [  1.36    ],\n",
       "       [172.240005],\n",
       "       [  5.05    ],\n",
       "       [187.339996],\n",
       "       [ 14.02    ],\n",
       "       [ 15.36    ],\n",
       "       [ 89.510002],\n",
       "       [  8.06    ],\n",
       "       [  6.62    ],\n",
       "       [ 52.900002],\n",
       "       [  1.37    ],\n",
       "       [  1.34    ],\n",
       "       [ 21.65    ],\n",
       "       [  5.95    ],\n",
       "       [  0.8     ],\n",
       "       [  1.24    ],\n",
       "       [104.43    ],\n",
       "       [  0.86    ],\n",
       "       [ 29.92    ],\n",
       "       [  7.04    ],\n",
       "       [199.080002],\n",
       "       [173.729996],\n",
       "       [157.229996],\n",
       "       [ 60.360001],\n",
       "       [  1.51    ],\n",
       "       [ 10.21    ],\n",
       "       [ 32.290001],\n",
       "       [  7.32    ],\n",
       "       [  0.78    ],\n",
       "       [  4.92    ],\n",
       "       [  4.42    ],\n",
       "       [  2.66    ],\n",
       "       [  4.71    ],\n",
       "       [127.260002],\n",
       "       [ 27.860001],\n",
       "       [  5.79    ],\n",
       "       [  5.18    ],\n",
       "       [103.830002],\n",
       "       [  2.24    ],\n",
       "       [147.410004],\n",
       "       [ 22.42    ],\n",
       "       [  9.1     ],\n",
       "       [  0.77    ],\n",
       "       [  5.34    ],\n",
       "       [151.869995],\n",
       "       [  1.51    ],\n",
       "       [  6.53    ],\n",
       "       [ 22.08    ],\n",
       "       [163.520004],\n",
       "       [  5.56    ],\n",
       "       [ 24.719999],\n",
       "       [134.580002],\n",
       "       [ 37.93    ],\n",
       "       [ 21.15    ],\n",
       "       [ 55.259998],\n",
       "       [  4.      ],\n",
       "       [ 67.040001],\n",
       "       [  7.03    ],\n",
       "       [ 39.66    ],\n",
       "       [167.369995],\n",
       "       [ 59.310001],\n",
       "       [  8.78    ],\n",
       "       [143.490005],\n",
       "       [  5.68    ],\n",
       "       [  1.37    ],\n",
       "       [ 71.370003],\n",
       "       [  1.01    ],\n",
       "       [ 48.759998],\n",
       "       [  2.03    ],\n",
       "       [141.229996],\n",
       "       [  3.96    ],\n",
       "       [ 21.26    ],\n",
       "       [ 41.34    ],\n",
       "       [  5.4     ],\n",
       "       [  4.42    ],\n",
       "       [  4.24    ],\n",
       "       [239.389999],\n",
       "       [  8.87    ],\n",
       "       [ 55.880001],\n",
       "       [  1.32    ],\n",
       "       [ 30.67    ],\n",
       "       [157.949997],\n",
       "       [ 64.169998],\n",
       "       [ 32.700001],\n",
       "       [  2.79    ],\n",
       "       [  4.23    ],\n",
       "       [108.970001],\n",
       "       [152.070007],\n",
       "       [ 32.380001],\n",
       "       [122.959999],\n",
       "       [  9.83    ],\n",
       "       [  6.81    ],\n",
       "       [  6.48    ],\n",
       "       [ 52.759998],\n",
       "       [116.589996],\n",
       "       [164.710007],\n",
       "       [  2.49    ],\n",
       "       [  1.12    ],\n",
       "       [  1.19    ],\n",
       "       [137.470001],\n",
       "       [ 26.      ],\n",
       "       [ 65.050003],\n",
       "       [149.970001],\n",
       "       [  1.4     ],\n",
       "       [  9.75    ],\n",
       "       [106.190002],\n",
       "       [ 30.219999],\n",
       "       [  2.56    ],\n",
       "       [  1.45    ],\n",
       "       [  0.99    ],\n",
       "       [  4.96    ],\n",
       "       [148.479996],\n",
       "       [ 17.75    ],\n",
       "       [  1.54    ],\n",
       "       [ 31.85    ],\n",
       "       [  4.54    ],\n",
       "       [134.699997],\n",
       "       [ 19.799999],\n",
       "       [  4.51    ],\n",
       "       [166.309998],\n",
       "       [185.710007],\n",
       "       [  5.08    ],\n",
       "       [  0.83    ],\n",
       "       [  1.4     ],\n",
       "       [  9.69    ],\n",
       "       [ 30.16    ],\n",
       "       [172.860001],\n",
       "       [ 14.21    ],\n",
       "       [195.630005],\n",
       "       [  8.8     ],\n",
       "       [  1.43    ],\n",
       "       [  4.94    ],\n",
       "       [114.610001],\n",
       "       [  4.92    ],\n",
       "       [173.210007],\n",
       "       [ 14.31    ],\n",
       "       [147.979996],\n",
       "       [  5.59    ],\n",
       "       [ 18.23    ],\n",
       "       [139.169998],\n",
       "       [176.059998],\n",
       "       [166.699997],\n",
       "       [ 19.370001],\n",
       "       [  1.27    ],\n",
       "       [ 50.639999],\n",
       "       [139.910004],\n",
       "       [181.389999],\n",
       "       [  1.21    ],\n",
       "       [ 31.59    ],\n",
       "       [130.669998],\n",
       "       [  0.87    ],\n",
       "       [ 21.870001],\n",
       "       [181.830002]])"
      ]
     },
     "execution_count": 55,
     "metadata": {},
     "output_type": "execute_result"
    }
   ],
   "source": [
    "x_reshape"
   ]
  },
  {
   "cell_type": "code",
   "execution_count": 58,
   "id": "03df6bf9",
   "metadata": {},
   "outputs": [],
   "source": [
    "Xreshape = df['Adj Close'].values.reshape(-1,1)"
   ]
  }
 ],
 "metadata": {
  "kernelspec": {
   "display_name": "mlenv",
   "language": "python",
   "name": "mlenv"
  },
  "language_info": {
   "codemirror_mode": {
    "name": "ipython",
    "version": 3
   },
   "file_extension": ".py",
   "mimetype": "text/x-python",
   "name": "python",
   "nbconvert_exporter": "python",
   "pygments_lexer": "ipython3",
   "version": "3.7.11"
  }
 },
 "nbformat": 4,
 "nbformat_minor": 5
}
